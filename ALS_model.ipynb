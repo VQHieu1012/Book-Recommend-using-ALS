{
 "cells": [
  {
   "cell_type": "code",
   "execution_count": 281,
   "id": "320ed190-12ea-4277-89e5-cde2c6306b62",
   "metadata": {},
   "outputs": [],
   "source": [
    "from pyspark.sql import SparkSession\n",
    "from pyspark.ml.feature import StringIndexer\n",
    "from pyspark.ml.evaluation import RegressionEvaluator\n",
    "from pyspark.ml.recommendation import ALS\n",
    "from pyspark.mllib.util import Saveable\n",
    "from pyspark.ml.tuning import TrainValidationSplit, ParamGridBuilder, CrossValidator"
   ]
  },
  {
   "cell_type": "code",
   "execution_count": 121,
   "id": "8f35f1c4-1e9d-45b2-8af3-0096e09e3121",
   "metadata": {},
   "outputs": [],
   "source": [
    "spark = SparkSession.builder\\\n",
    "                    .appName(\"Recommend\")\\\n",
    "                    .config(\"spark.driver.memory\", \"10g\") \\\n",
    "                    .config(\"spark.executor.cores\", \"4\")  \\\n",
    "                    .getOrCreate()"
   ]
  },
  {
   "cell_type": "code",
   "execution_count": 124,
   "id": "6ef83513-3c2f-4dd2-b0f8-088cbb8079a7",
   "metadata": {},
   "outputs": [],
   "source": [
    "df = spark.read.csv('./data/user_item_rating.csv', header=True, inferSchema=True)"
   ]
  },
  {
   "cell_type": "code",
   "execution_count": 125,
   "id": "f3db1eed-bcee-4853-aa35-04a082df2197",
   "metadata": {},
   "outputs": [
    {
     "name": "stdout",
     "output_type": "stream",
     "text": [
      "+---+-------+----------+------+--------------------+-----------------+----+--------------------+--------------------+-----------------+\n",
      "|_c0|user_id|      ISBN|rating|               title|           author|year|           publisher|             img_url|number_of_ratings|\n",
      "+---+-------+----------+------+--------------------+-----------------+----+--------------------+--------------------+-----------------+\n",
      "|  0| 277427|002542730X|    10|Politically Corre...|James Finn Garner|1994|John Wiley &amp; ...|http://images.ama...|               82|\n",
      "|  1|   3363|002542730X|     0|Politically Corre...|James Finn Garner|1994|John Wiley &amp; ...|http://images.ama...|               82|\n",
      "|  2|  11676|002542730X|     6|Politically Corre...|James Finn Garner|1994|John Wiley &amp; ...|http://images.ama...|               82|\n",
      "|  3|  12538|002542730X|    10|Politically Corre...|James Finn Garner|1994|John Wiley &amp; ...|http://images.ama...|               82|\n",
      "|  4|  13552|002542730X|     0|Politically Corre...|James Finn Garner|1994|John Wiley &amp; ...|http://images.ama...|               82|\n",
      "+---+-------+----------+------+--------------------+-----------------+----+--------------------+--------------------+-----------------+\n",
      "only showing top 5 rows\n",
      "\n"
     ]
    }
   ],
   "source": [
    "df.show(5)"
   ]
  },
  {
   "cell_type": "code",
   "execution_count": 126,
   "id": "049ae16c-b708-45b6-80e1-04f4455a207d",
   "metadata": {},
   "outputs": [],
   "source": [
    "df_1 = df['user_id','ISBN', 'rating']"
   ]
  },
  {
   "cell_type": "code",
   "execution_count": 127,
   "id": "644112b1-91d9-4ef2-8c4d-9099b4002910",
   "metadata": {},
   "outputs": [
    {
     "name": "stdout",
     "output_type": "stream",
     "text": [
      "+-------+----------+------+\n",
      "|user_id|      ISBN|rating|\n",
      "+-------+----------+------+\n",
      "| 277427|002542730X|    10|\n",
      "|   3363|002542730X|     0|\n",
      "|  11676|002542730X|     6|\n",
      "+-------+----------+------+\n",
      "only showing top 3 rows\n",
      "\n"
     ]
    }
   ],
   "source": [
    "df_1.show(3)"
   ]
  },
  {
   "cell_type": "code",
   "execution_count": 128,
   "id": "cf8335fb-c287-4e82-9e11-67a650a2f68d",
   "metadata": {},
   "outputs": [],
   "source": [
    "indexer = StringIndexer(inputCol=\"ISBN\", outputCol=\"item_id\")\n",
    "indexed_df = indexer.fit(df_1).transform(df_1)"
   ]
  },
  {
   "cell_type": "code",
   "execution_count": 129,
   "id": "641d3e13-bc52-42b7-860b-fcc31ff90e2e",
   "metadata": {},
   "outputs": [
    {
     "name": "stdout",
     "output_type": "stream",
     "text": [
      "+-------+----------+------+-------+\n",
      "|user_id|      ISBN|rating|item_id|\n",
      "+-------+----------+------+-------+\n",
      "| 277427|002542730X|    10|  167.0|\n",
      "|   3363|002542730X|     0|  167.0|\n",
      "|  11676|002542730X|     6|  167.0|\n",
      "|  12538|002542730X|    10|  167.0|\n",
      "+-------+----------+------+-------+\n",
      "only showing top 4 rows\n",
      "\n"
     ]
    }
   ],
   "source": [
    "indexed_df.show(4)"
   ]
  },
  {
   "cell_type": "code",
   "execution_count": 130,
   "id": "2bb28399-53d4-4d25-b495-6e12b2027f0b",
   "metadata": {},
   "outputs": [
    {
     "name": "stdout",
     "output_type": "stream",
     "text": [
      "59850 rows and 4 columns\n"
     ]
    }
   ],
   "source": [
    "print(\"{} rows and {} columns\".format(indexed_df.count(), len(indexed_df.columns)))"
   ]
  },
  {
   "cell_type": "code",
   "execution_count": 131,
   "id": "76ca883e-dca8-4e0c-9eec-40159c32f462",
   "metadata": {},
   "outputs": [
    {
     "data": {
      "text/plain": [
       "2144"
      ]
     },
     "execution_count": 131,
     "metadata": {},
     "output_type": "execute_result"
    }
   ],
   "source": [
    "indexed_df.select(\"ISBN\").distinct().count()"
   ]
  },
  {
   "cell_type": "code",
   "execution_count": 132,
   "id": "c8808052-4393-476e-897d-3e3900f93e7d",
   "metadata": {},
   "outputs": [
    {
     "data": {
      "text/plain": [
       "2144"
      ]
     },
     "execution_count": 132,
     "metadata": {},
     "output_type": "execute_result"
    }
   ],
   "source": [
    "indexed_df.select(\"item_id\").distinct().count()"
   ]
  },
  {
   "cell_type": "code",
   "execution_count": 133,
   "id": "2b3bd1f3-609e-4f76-9b67-07a3ac552bc3",
   "metadata": {},
   "outputs": [
    {
     "data": {
      "text/plain": [
       "2143.0"
      ]
     },
     "execution_count": 133,
     "metadata": {},
     "output_type": "execute_result"
    }
   ],
   "source": [
    "from pyspark.sql.functions import max, min\n",
    "indexed_df.agg(max(\"item_id\")).collect()[0][0]"
   ]
  },
  {
   "cell_type": "code",
   "execution_count": 134,
   "id": "ba6557dd-58d4-41e3-8d78-e08fd5ebef2e",
   "metadata": {},
   "outputs": [
    {
     "data": {
      "text/plain": [
       "0.0"
      ]
     },
     "execution_count": 134,
     "metadata": {},
     "output_type": "execute_result"
    }
   ],
   "source": [
    "indexed_df.agg(min(\"item_id\")).collect()[0][0]\n"
   ]
  },
  {
   "cell_type": "code",
   "execution_count": 135,
   "id": "58038181-c97c-4832-8c6f-8baa547ca472",
   "metadata": {},
   "outputs": [
    {
     "name": "stdout",
     "output_type": "stream",
     "text": [
      "+-------+----------+------+-------+\n",
      "|user_id|      ISBN|rating|item_id|\n",
      "+-------+----------+------+-------+\n",
      "|    254|0060930535|     0|   40.0|\n",
      "|    254|014028009X|     0|   76.0|\n",
      "|    254|0140298479|     0|  225.0|\n",
      "|    254|014100018X|     0|  354.0|\n",
      "+-------+----------+------+-------+\n",
      "only showing top 4 rows\n",
      "\n",
      "<class 'pyspark.sql.dataframe.DataFrame'>\n"
     ]
    }
   ],
   "source": [
    "(training, test) = indexed_df.randomSplit([0.8, 0.2], 12)\n",
    "training.show(4)\n",
    "print(type(training))"
   ]
  },
  {
   "cell_type": "markdown",
   "id": "dd4609da-666e-45cf-bc35-4b92351df857",
   "metadata": {},
   "source": [
    "## Base Model"
   ]
  },
  {
   "cell_type": "code",
   "execution_count": 165,
   "id": "e2e5d5c1-a4cf-4a37-aab9-85e574eb79ad",
   "metadata": {},
   "outputs": [],
   "source": [
    "sc = spark.sparkContext\n",
    "sc.setCheckpointDir('checkpoint')"
   ]
  },
  {
   "cell_type": "code",
   "execution_count": 166,
   "id": "59ba67e6-23bf-4680-9151-4593d2acc696",
   "metadata": {},
   "outputs": [],
   "source": [
    "base = ALS(maxIter=15, regParam=0.05, rank=10, userCol=\"user_id\", itemCol=\"item_id\", ratingCol=\"rating\", coldStartStrategy=\"drop\", nonnegative=True)\n",
    "model = base.fit(training)"
   ]
  },
  {
   "cell_type": "code",
   "execution_count": 175,
   "id": "f80b1d19-c9ed-4160-9721-3709df16d99e",
   "metadata": {},
   "outputs": [
    {
     "name": "stdout",
     "output_type": "stream",
     "text": [
      "Model rank:  10\n",
      "Max iterations:  15\n",
      "Regularization:  0.05\n"
     ]
    }
   ],
   "source": [
    "# Information about base model\n",
    "print(\"Model rank: \", model.rank)\n",
    "print(\"Max iterations: \", model._java_obj.parent().getMaxIter())\n",
    "print(\"Regularization: \", model._java_obj.parent().getRegParam())"
   ]
  },
  {
   "cell_type": "code",
   "execution_count": 169,
   "id": "7444b6f5-00e4-4520-b488-715801c17c68",
   "metadata": {},
   "outputs": [],
   "source": [
    "# Defind evaluator as RMSE\n",
    "evaluator = RegressionEvaluator(metricName=\"rmse\", labelCol=\"rating\",\n",
    "                                predictionCol=\"prediction\")"
   ]
  },
  {
   "cell_type": "code",
   "execution_count": 176,
   "id": "76b32cd9-d4e8-4e34-906e-0b540f642a0a",
   "metadata": {},
   "outputs": [
    {
     "name": "stdout",
     "output_type": "stream",
     "text": [
      "Training RMSE: 2.2000412469887647\n",
      "Test RMSE: 3.994471876214622\n"
     ]
    }
   ],
   "source": [
    "# RMSE for training and test set\n",
    "predictions_train = model.transform(training)\n",
    "rmse_train = evaluator.evaluate(predictions_train)\n",
    "\n",
    "predictions_test = model.transform(test)\n",
    "rmse_test = evaluator.evaluate(predictions_test)\n",
    "\n",
    "print(\"Training RMSE: {}\".format(rmse_train))\n",
    "print(\"Test RMSE: {}\".format(rmse_test))"
   ]
  },
  {
   "cell_type": "code",
   "execution_count": 177,
   "id": "5444ff61-5054-4a70-81d0-fd07f2629716",
   "metadata": {},
   "outputs": [
    {
     "name": "stdout",
     "output_type": "stream",
     "text": [
      "+-------+----------+------+-------+-----------+\n",
      "|user_id|      ISBN|rating|item_id| prediction|\n",
      "+-------+----------+------+-------+-----------+\n",
      "|  15957|042516098X|     0|  171.0|  0.6356151|\n",
      "|  69042|0440207622|     0|  486.0|   2.387381|\n",
      "|  69042|0440211727|     0|    6.0|  1.2596714|\n",
      "|  69042|0440222656|     0|    8.0| 0.23687434|\n",
      "|  69042|0446359866|     0|  183.0|   1.249915|\n",
      "|  69042|0451172817|     0|  249.0| 0.60790545|\n",
      "|  69042|0451176464|     0|  363.0|  2.0440311|\n",
      "|  69042|0515107476|     0| 1134.0|        0.0|\n",
      "|  69042|0553250531|     0|  506.0| 0.39798325|\n",
      "|  69042|055357230X|     0|  471.0|0.121275134|\n",
      "|  69042|0553579606|     0|  177.0|  0.7368578|\n",
      "|  69042|0743412028|     0|  251.0| 0.19793731|\n",
      "| 178199|014028009X|    10|   76.0|  6.8059416|\n",
      "| 178199|0312422156|    10|  671.0|   5.079855|\n",
      "| 178199|0440241073|     7|   58.0|  4.1862593|\n",
      "| 178199|0553572997|     0|   75.0|    1.24648|\n",
      "| 178199|0743467523|     6|  687.0|   3.086973|\n",
      "| 178199|0971880107|     0|    0.0| 0.85245883|\n",
      "| 268622|0140067477|     0|  253.0|    6.98877|\n",
      "| 268622|014029628X|    10|  197.0|   6.356589|\n",
      "+-------+----------+------+-------+-----------+\n",
      "only showing top 20 rows\n",
      "\n"
     ]
    }
   ],
   "source": [
    "predictions_test.show()"
   ]
  },
  {
   "cell_type": "markdown",
   "id": "b689021b-c954-4354-8c42-9fa89944a432",
   "metadata": {},
   "source": [
    "### In base model:\n",
    "Model rank:  10\n",
    "\r\n",
    "Max iterations:  15\n",
    "\r\n",
    "Regularizati: 0.05\n",
    "\n",
    "Training RMSE: 2.2000412469887647\r\n",
    "\n",
    "Test RMSE: 3.99447187621462205"
   ]
  },
  {
   "cell_type": "markdown",
   "id": "071dbb30-6462-4542-8832-2ec786877006",
   "metadata": {},
   "source": [
    "## Tuning model\n",
    "\n",
    "In this tuning model, we will use ParamGridBuilder with a set in setting param likes rank, maxIter, regParam to find best model in these setup"
   ]
  },
  {
   "cell_type": "code",
   "execution_count": 382,
   "id": "87fd1f86-b8cc-4a80-81e8-984bdd3ef99e",
   "metadata": {},
   "outputs": [],
   "source": [
    "# Create ALS model\n",
    "model = ALS(userCol=\"user_id\", itemCol=\"item_id\", ratingCol=\"rating\",\n",
    "            coldStartStrategy=\"drop\", nonnegative=True)"
   ]
  },
  {
   "cell_type": "code",
   "execution_count": 383,
   "id": "f23eea9d-a8e9-40dc-b698-d8fb879600aa",
   "metadata": {},
   "outputs": [],
   "source": [
    "# Defind evaluator as RMSE\n",
    "evaluator = RegressionEvaluator(metricName=\"rmse\", labelCol=\"rating\",\n",
    "                                predictionCol=\"prediction\")"
   ]
  },
  {
   "cell_type": "code",
   "execution_count": 384,
   "id": "c0d936bf-5f2d-41c2-9c69-b693dcd217d2",
   "metadata": {},
   "outputs": [],
   "source": [
    "# tuning model using ParamGridBuilder\n",
    "param_grid = ParamGridBuilder()\\\n",
    "             .addGrid(model.rank, [25])\\\n",
    "             .addGrid(model.maxIter, [75])\\\n",
    "             .addGrid(model.regParam, [.2])\\\n",
    "             .build()"
   ]
  },
  {
   "cell_type": "code",
   "execution_count": 385,
   "id": "45d61739-b279-4a3f-ae47-301495d9ed74",
   "metadata": {},
   "outputs": [],
   "source": [
    "cv = CrossValidator(estimator=model,\n",
    "                    estimatorParamMaps=param_grid,\n",
    "                    evaluator=evaluator,\n",
    "                    numFolds=5, seed=12)"
   ]
  },
  {
   "cell_type": "code",
   "execution_count": 386,
   "id": "f19b4fc6-6254-40cd-b622-ee30eeefd155",
   "metadata": {},
   "outputs": [
    {
     "data": {
      "text/plain": [
       "DataFrame[user_id: int, ISBN: string, rating: int, item_id: double]"
      ]
     },
     "execution_count": 386,
     "metadata": {},
     "output_type": "execute_result"
    }
   ],
   "source": [
    "#training.cache()\n",
    "indexed_df.cache()"
   ]
  },
  {
   "cell_type": "code",
   "execution_count": 387,
   "id": "40a0107e-7613-4382-b681-8789f013df70",
   "metadata": {},
   "outputs": [],
   "source": [
    "model = cv.fit(indexed_df)"
   ]
  },
  {
   "cell_type": "code",
   "execution_count": 388,
   "id": "c42e763a-cc72-4977-81a7-01b8634f36d9",
   "metadata": {},
   "outputs": [],
   "source": [
    "best_model = model.bestModel"
   ]
  },
  {
   "cell_type": "code",
   "execution_count": 389,
   "id": "5e268f60-10c4-4514-acc4-4e5673713515",
   "metadata": {},
   "outputs": [
    {
     "name": "stdout",
     "output_type": "stream",
     "text": [
      "25\n",
      "75\n",
      "0.2\n"
     ]
    }
   ],
   "source": [
    "# Information about best model in paramGrid\n",
    "print(best_model.rank)\n",
    "print(best_model._java_obj.parent().getMaxIter())\n",
    "print(best_model._java_obj.parent().getRegParam())"
   ]
  },
  {
   "cell_type": "code",
   "execution_count": 390,
   "id": "27b7c9c9-9511-41af-b28d-6bff6ba9870c",
   "metadata": {},
   "outputs": [
    {
     "name": "stdout",
     "output_type": "stream",
     "text": [
      "Training RMSE: 1.9962611320572226\n",
      "Test RMSE: 2.0279782768253387\n",
      "Whole data RMSE: 2.0025643456156415\n"
     ]
    }
   ],
   "source": [
    "# Assuming 'model' is your ALS model and 'test_data' is your test dataset\n",
    "predictions_train = model.transform(training)\n",
    "rmse_train = evaluator.evaluate(predictions_train)\n",
    "\n",
    "predictions_test = model.transform(test)\n",
    "rmse_test = evaluator.evaluate(predictions_test)\n",
    "\n",
    "whole_data = model.transform(indexed_df)\n",
    "rmse_data = evaluator.evaluate(whole_data)\n",
    "\n",
    "print(\"Training RMSE: {}\".format(rmse_train))\n",
    "print(\"Test RMSE: {}\".format(rmse_test))\n",
    "print(\"Whole data RMSE: {}\".format(rmse_data))"
   ]
  },
  {
   "cell_type": "code",
   "execution_count": 391,
   "id": "2d8f6bdb-cc6f-4c0d-bd58-b9268134aa26",
   "metadata": {},
   "outputs": [
    {
     "data": {
      "text/plain": [
       "[Row(max(prediction)=11.84021282196045, min(prediction)=0.0)]"
      ]
     },
     "execution_count": 391,
     "metadata": {},
     "output_type": "execute_result"
    }
   ],
   "source": [
    "whole_data.agg(max(\"prediction\"), min(\"prediction\")).collect()"
   ]
  },
  {
   "cell_type": "code",
   "execution_count": 392,
   "id": "ee94cc14-9437-4e88-8182-062727490bd9",
   "metadata": {},
   "outputs": [
    {
     "name": "stdout",
     "output_type": "stream",
     "text": [
      "+-------+----------+------+-------+----------+\n",
      "|user_id|      ISBN|rating|item_id|prediction|\n",
      "+-------+----------+------+-------+----------+\n",
      "| 268622|0060930535|     0|   40.0|  1.877364|\n",
      "| 268622|0140067477|     0|  253.0| 1.3679516|\n",
      "| 268622|014029628X|    10|  197.0| 5.5658565|\n",
      "| 178199|0142001740|    10|   18.0| 5.9912796|\n",
      "| 268622|0142001740|     0|   18.0|  2.314445|\n",
      "| 178199|0316776963|     0|   73.0| 1.3170755|\n",
      "| 268622|0316776963|     7|   73.0| 2.8950043|\n",
      "|  69042|0345361792|     0|   33.0|0.47691157|\n",
      "| 178199|0345361792|     0|   33.0| 1.7482406|\n",
      "| 178199|0345452534|     8|  851.0| 7.5790524|\n",
      "| 178199|0312422156|    10|  671.0| 7.0181437|\n",
      "| 178199|0380710218|     0|  242.0|  3.354216|\n",
      "|  69042|044022165X|     0|   41.0| 0.1382077|\n",
      "| 178199|0965739228|     0| 1398.0|       0.0|\n",
      "|  15957|0385504209|     0|    4.0| 1.1461346|\n",
      "| 178199|0385504209|     8|    4.0| 7.7976418|\n",
      "| 268622|0385504209|     7|    4.0| 4.3794026|\n",
      "|  69042|0425113884|     0|  676.0|0.24661899|\n",
      "|  26583|0440213991|     0|  679.0| 0.1160167|\n",
      "| 268622|0385472951|     9|  704.0| 5.7651243|\n",
      "+-------+----------+------+-------+----------+\n",
      "only showing top 20 rows\n",
      "\n"
     ]
    }
   ],
   "source": [
    "whole_data.show(20)"
   ]
  },
  {
   "cell_type": "code",
   "execution_count": 393,
   "id": "e7ed5bde-b452-4073-b10e-ae34caba17b7",
   "metadata": {
    "scrolled": true
   },
   "outputs": [
    {
     "name": "stdout",
     "output_type": "stream",
     "text": [
      "Parameters: {Param(parent='ALS_011767cde641', name='rank', doc='rank of the factorization'): 25, Param(parent='ALS_011767cde641', name='maxIter', doc='max number of iterations (>= 0).'): 75, Param(parent='ALS_011767cde641', name='regParam', doc='regularization parameter (>= 0).'): 0.2}, RMSE: 3.4770753440457987\n"
     ]
    }
   ],
   "source": [
    "train_rmse = []\n",
    "for param, value in zip(model.getEstimatorParamMaps(), model.avgMetrics):\n",
    "    print(f\"Parameters: {param}, RMSE: {value}\")\n",
    "    train_rmse.append(value)"
   ]
  },
  {
   "cell_type": "code",
   "execution_count": 394,
   "id": "9111cb36-49ee-4773-8784-cdb9b0606554",
   "metadata": {},
   "outputs": [],
   "source": [
    "\n",
    "#best_model.save(\"./model/model_1\")"
   ]
  },
  {
   "cell_type": "code",
   "execution_count": 395,
   "id": "3a5dc776-0e29-4761-8b7f-e7e69475b6e5",
   "metadata": {},
   "outputs": [],
   "source": [
    "# 25 50 1\n",
    "userRecs = best_model.recommendForAllUsers(10)"
   ]
  },
  {
   "cell_type": "code",
   "execution_count": 396,
   "id": "1aab083f-8eeb-48c6-bcca-91543b130c3b",
   "metadata": {},
   "outputs": [
    {
     "name": "stdout",
     "output_type": "stream",
     "text": [
      "+-------+--------------------+\n",
      "|user_id|     recommendations|\n",
      "+-------+--------------------+\n",
      "|   3757|[{1393, 8.9770355...|\n",
      "|   4017|[{1119, 19.08024}...|\n",
      "|   6323|[{799, 8.468501},...|\n",
      "|   6543|[{1464, 9.208646}...|\n",
      "|   6563|[{343, 10.4078865...|\n",
      "|   7158|[{1649, 11.315558...|\n",
      "|   7286|[{30, 10.410205},...|\n",
      "|   7346|[{1393, 11.627357...|\n",
      "|   8067|[{1464, 15.991763...|\n",
      "|   8681|[{1649, 11.151564...|\n",
      "|  10447|[{1464, 10.841313...|\n",
      "|  11601|[{1290, 2.8491478...|\n",
      "|  12538|[{1464, 10.066278...|\n",
      "|  12824|[{1506, 13.687327...|\n",
      "|  13552|[{1690, 16.76156}...|\n",
      "|  13850|[{1464, 21.081884...|\n",
      "|  14422|[{944, 10.133333}...|\n",
      "|  15408|[{1229, 5.6796255...|\n",
      "|  15957|[{1671, 12.341031...|\n",
      "|  16634|[{1764, 14.174701...|\n",
      "+-------+--------------------+\n",
      "only showing top 20 rows\n",
      "\n"
     ]
    }
   ],
   "source": [
    "userRecs.show()"
   ]
  },
  {
   "cell_type": "code",
   "execution_count": 397,
   "id": "8ae027e1-3891-42a4-ab89-f42a0303065c",
   "metadata": {},
   "outputs": [],
   "source": [
    "usr = indexed_df.select('user_id').distinct().count()"
   ]
  },
  {
   "cell_type": "code",
   "execution_count": 398,
   "id": "ecc5cab9-3bd6-448f-9ba0-00381a81f7d0",
   "metadata": {},
   "outputs": [],
   "source": [
    "item = indexed_df.select('item_id').distinct().count()"
   ]
  },
  {
   "cell_type": "code",
   "execution_count": 399,
   "id": "459a69e6-1740-4627-b020-f70584111293",
   "metadata": {},
   "outputs": [],
   "source": [
    "rating = indexed_df.select('rating').count()"
   ]
  },
  {
   "cell_type": "code",
   "execution_count": 400,
   "id": "54bedc18-0e2d-43c7-ba8c-cbadeefcf43e",
   "metadata": {},
   "outputs": [
    {
     "data": {
      "text/plain": [
       "96.85640631302945"
      ]
     },
     "execution_count": 400,
     "metadata": {},
     "output_type": "execute_result"
    }
   ],
   "source": [
    "sparity = (1 - rating/(usr * item))*100\n",
    "sparity"
   ]
  },
  {
   "cell_type": "code",
   "execution_count": null,
   "id": "03163f5c-6c06-4d7e-862c-90df3cbe1c68",
   "metadata": {},
   "outputs": [],
   "source": []
  }
 ],
 "metadata": {
  "kernelspec": {
   "display_name": "Python 3 (ipykernel)",
   "language": "python",
   "name": "python3"
  },
  "language_info": {
   "codemirror_mode": {
    "name": "ipython",
    "version": 3
   },
   "file_extension": ".py",
   "mimetype": "text/x-python",
   "name": "python",
   "nbconvert_exporter": "python",
   "pygments_lexer": "ipython3",
   "version": "3.11.6"
  }
 },
 "nbformat": 4,
 "nbformat_minor": 5
}
