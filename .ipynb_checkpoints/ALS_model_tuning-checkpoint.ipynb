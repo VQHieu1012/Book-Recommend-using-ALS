{
 "cells": [
  {
   "cell_type": "code",
   "execution_count": 196,
   "id": "c2765118-8b30-47d2-bf26-7245a902e5bd",
   "metadata": {},
   "outputs": [
    {
     "name": "stdout",
     "output_type": "stream",
     "text": [
      "System version: 3.11.6 | packaged by conda-forge | (main, Oct  3 2023, 10:40:35) [GCC 12.3.0]\n",
      "Pandas version: 2.0.3\n",
      "PySpark version: 3.5.0\n"
     ]
    }
   ],
   "source": [
    "import warnings\n",
    "warnings.simplefilter(action='ignore', category=FutureWarning)\n",
    "\n",
    "import sys\n",
    "from matplotlib import pyplot as plt\n",
    "import numpy as np\n",
    "import pandas as pd\n",
    "import seaborn as sns\n",
    "\n",
    "import pyspark\n",
    "from pyspark.sql.functions import rand\n",
    "from pyspark.sql import SparkSession\n",
    "from pyspark.ml.feature import StringIndexer\n",
    "from pyspark.mllib.util import Saveable\n",
    "from pyspark.ml.recommendation import ALS\n",
    "import pyspark.sql.functions as F\n",
    "from pyspark.sql.functions import col\n",
    "from pyspark.ml.tuning import CrossValidator, ParamGridBuilder\n",
    "from pyspark.ml.evaluation import RegressionEvaluator\n",
    "from pyspark.sql.types import StructType, StructField\n",
    "from pyspark.sql.types import FloatType, IntegerType, LongType\n",
    "\n",
    "from recommenders.utils.spark_utils import start_or_get_spark\n",
    "from recommenders.evaluation.spark_evaluation import SparkRankingEvaluation, SparkRatingEvaluation\n",
    "from recommenders.tuning.parameter_sweep import generate_param_grid\n",
    "from recommenders.datasets.spark_splitters import spark_random_split\n",
    "\n",
    "print(f\"System version: {sys.version}\")\n",
    "print(f\"Pandas version: {pd.__version__}\")\n",
    "print(f\"PySpark version: {pyspark.__version__}\")"
   ]
  },
  {
   "cell_type": "code",
   "execution_count": 197,
   "id": "2e0fc3f7-64e5-4af2-9bd4-dff6de193679",
   "metadata": {},
   "outputs": [],
   "source": [
    "## Set up data columns name\n",
    "COL_USER = \"user_id\"\n",
    "COL_ITEM = \"item_id\"\n",
    "COL_RATING = \"rating\"\n",
    "COL_PREDICTION = \"prediction\"\n",
    "COL_TIMESTAMP = \"timestamp\""
   ]
  },
  {
   "cell_type": "code",
   "execution_count": 198,
   "id": "650f4f19-5b28-4c38-abc2-a68afe85013c",
   "metadata": {},
   "outputs": [],
   "source": [
    "## Set up base parameter\n",
    "RANK = 10\n",
    "MAX_ITER = 15\n",
    "REG_PARAM = 1"
   ]
  },
  {
   "cell_type": "code",
   "execution_count": 199,
   "id": "0331a60c-2431-47cb-a9c1-543037862dd0",
   "metadata": {},
   "outputs": [],
   "source": [
    "## Set up number of top k\n",
    "K = 10"
   ]
  },
  {
   "cell_type": "code",
   "execution_count": 200,
   "id": "175186ff-795e-4acb-a07d-90dafb908f56",
   "metadata": {},
   "outputs": [],
   "source": [
    "## Set up Spark and checkpoint\n",
    "spark = start_or_get_spark(\"ALS Deep Dive\", memory=\"6g\")\n",
    "spark.conf.set(\"spark.sql.analyzer.failAmbiguousSelfJoin\", \"false\")\n",
    "sc = spark.sparkContext\n",
    "sc.setCheckpointDir('checkpoint')"
   ]
  },
  {
   "cell_type": "markdown",
   "id": "c2e9df06-a33b-4b20-82fe-68bf15ac5974",
   "metadata": {},
   "source": [
    "## Load and prepare data"
   ]
  },
  {
   "cell_type": "code",
   "execution_count": 201,
   "id": "85113590-a8a2-4d95-8772-58a67cb4914a",
   "metadata": {},
   "outputs": [
    {
     "name": "stdout",
     "output_type": "stream",
     "text": [
      "+-------+----------+------+-------+\n",
      "|user_id|      ISBN|rating|item_id|\n",
      "+-------+----------+------+-------+\n",
      "| 277427|002542730X|    10|  167.0|\n",
      "|   3363|002542730X|     0|  167.0|\n",
      "|  11676|002542730X|     6|  167.0|\n",
      "|  12538|002542730X|    10|  167.0|\n",
      "|  13552|002542730X|     0|  167.0|\n",
      "+-------+----------+------+-------+\n",
      "only showing top 5 rows\n",
      "\n"
     ]
    }
   ],
   "source": [
    "df = spark.read.csv('./data/user_item_rating.csv', header=True, inferSchema=True)\n",
    "df_1 = df['user_id','ISBN', 'rating']\n",
    "indexer = StringIndexer(inputCol=\"ISBN\", outputCol=\"item_id\")\n",
    "data = indexer.fit(df_1).transform(df_1)\n",
    "data.show(5)"
   ]
  },
  {
   "cell_type": "code",
   "execution_count": 202,
   "id": "7e3fbd7d-3836-415b-a065-954442ad9a8f",
   "metadata": {},
   "outputs": [],
   "source": [
    "## Split data to 80-20\n",
    "data = data.orderBy(rand(seed=42))\n",
    "dfs_train, dfs_test = spark_random_split(data, ratio=0.8, seed=42)"
   ]
  },
  {
   "cell_type": "markdown",
   "id": "6d1e9937-28fc-4805-acb8-3e4e0d58a119",
   "metadata": {},
   "source": [
    "## Train a book model"
   ]
  },
  {
   "cell_type": "code",
   "execution_count": 203,
   "id": "5f39c52c-7603-4441-8e2f-8856964435f2",
   "metadata": {},
   "outputs": [],
   "source": [
    "als = ALS(\n",
    "    maxIter=MAX_ITER, \n",
    "    rank=RANK,\n",
    "    regParam=REG_PARAM, \n",
    "    userCol=COL_USER, \n",
    "    itemCol=COL_ITEM, \n",
    "    ratingCol=COL_RATING, \n",
    "    coldStartStrategy=\"drop\"\n",
    ")\n",
    "\n",
    "model = als.fit(dfs_train)"
   ]
  },
  {
   "cell_type": "markdown",
   "id": "1583a792-3389-401f-b4bf-f2c7bf7db378",
   "metadata": {},
   "source": [
    "## Predict with a model"
   ]
  },
  {
   "cell_type": "code",
   "execution_count": 204,
   "id": "740bfa14-f4dd-4bd8-b4fe-c8d69cb08400",
   "metadata": {},
   "outputs": [
    {
     "name": "stdout",
     "output_type": "stream",
     "text": [
      "+-------+----------+------+-------+----------+\n",
      "|user_id|      ISBN|rating|item_id|prediction|\n",
      "+-------+----------+------+-------+----------+\n",
      "|  15957|0553573136|     8|  329.0| 0.3851377|\n",
      "|  15957|0804111359|     0|  252.0| 1.0261064|\n",
      "|  69042|0380731851|     0|  115.0|0.15094444|\n",
      "|  69042|0425155404|     0|  434.0|0.13813299|\n",
      "|  69042|0671024248|     0|  284.0|0.23537423|\n",
      "| 178199|0345447832|     0|  992.0|  3.955367|\n",
      "| 178199|038572179X|     0|  288.0|0.93151236|\n",
      "| 178199|0451180232|     0|  569.0| 2.9472606|\n",
      "| 268622|0142001740|     0|   18.0| 1.2938577|\n",
      "| 268622|0446605239|     0|   21.0| 0.8545287|\n",
      "+-------+----------+------+-------+----------+\n",
      "only showing top 10 rows\n",
      "\n"
     ]
    }
   ],
   "source": [
    "dfs_base_pred = model.transform(dfs_test)\n",
    "dfs_base_pred.sample(fraction=0.25).show(10)"
   ]
  },
  {
   "cell_type": "markdown",
   "id": "2a358fb5-fe40-47b1-84c6-7480df477749",
   "metadata": {},
   "source": [
    "## Evaluate model"
   ]
  },
  {
   "cell_type": "code",
   "execution_count": 205,
   "id": "1de52b9e-c155-49bc-a000-2c95a6d2dcd8",
   "metadata": {},
   "outputs": [
    {
     "name": "stdout",
     "output_type": "stream",
     "text": [
      "RMSE score = 3.3796649159443435\n",
      "MAE score = 2.2116772908478444\n"
     ]
    }
   ],
   "source": [
    "evaluations = SparkRatingEvaluation(\n",
    "    dfs_test, \n",
    "    dfs_base_pred,\n",
    "    col_user=COL_USER,\n",
    "    col_item=COL_ITEM,\n",
    "    col_rating=COL_RATING,\n",
    "    col_prediction=COL_PREDICTION\n",
    ")\n",
    "\n",
    "print(\n",
    "    \"RMSE score = {}\".format(evaluations.rmse()),\n",
    "    \"MAE score = {}\".format(evaluations.mae()),\n",
    "    sep=\"\\n\"\n",
    ")"
   ]
  },
  {
   "cell_type": "code",
   "execution_count": 206,
   "id": "473ab1e0-7b67-4c6b-8d06-adb48b31126a",
   "metadata": {},
   "outputs": [
    {
     "name": "stdout",
     "output_type": "stream",
     "text": [
      "+-------+-------+----------+\n",
      "|user_id|item_id|prediction|\n",
      "+-------+-------+----------+\n",
      "|    254|    4.0| 0.8371286|\n",
      "|    254|    5.0| 1.0516227|\n",
      "|    254|    9.0| 0.9247348|\n",
      "|    254|   10.0| 1.6729605|\n",
      "|    254|   11.0|  1.496525|\n",
      "|    254|   15.0| 0.6955163|\n",
      "|    254|   17.0| 0.6475493|\n",
      "|    254|   24.0| 0.8106165|\n",
      "|    254|   26.0| 1.0179889|\n",
      "|    254|   33.0| 1.0719767|\n",
      "|    254|   36.0| 0.9226278|\n",
      "|    254|   47.0| 1.1302152|\n",
      "|    254|   56.0| 0.6886256|\n",
      "|    254|   59.0| 0.9381675|\n",
      "|    254|   62.0|  1.264453|\n",
      "|    254|   66.0| 1.3526927|\n",
      "|    254|   68.0|0.95232755|\n",
      "|    254|   86.0| 0.9686634|\n",
      "|    254|  101.0| 1.3190151|\n",
      "|    254|  106.0| 0.8642551|\n",
      "+-------+-------+----------+\n",
      "only showing top 20 rows\n",
      "\n"
     ]
    }
   ],
   "source": [
    "# Get the cross join of all user-item pairs and score them.\n",
    "users = dfs_train.select(COL_USER).distinct()\n",
    "items = dfs_train.select(COL_ITEM).distinct()\n",
    "user_item = users.crossJoin(items)\n",
    "dfs_base_pred = model.transform(user_item)\n",
    "\n",
    "# Remove seen items.\n",
    "dfs_base_pred_exclude_train = dfs_base_pred.alias(\"pred\").join(\n",
    "    dfs_train.alias(\"train\"),\n",
    "    (dfs_base_pred[COL_USER] == dfs_train[COL_USER]) & (dfs_base_pred[COL_ITEM] == dfs_train[COL_ITEM]),\n",
    "    how='outer'\n",
    ")\n",
    "\n",
    "dfs_base_pred_final = dfs_base_pred_exclude_train.filter(dfs_base_pred_exclude_train[\"train.Rating\"].isNull()) \\\n",
    "    .select('pred.' + COL_USER, 'pred.' + COL_ITEM, 'pred.' + \"prediction\")\n",
    "\n",
    "dfs_base_pred_final.show()"
   ]
  },
  {
   "cell_type": "code",
   "execution_count": 207,
   "id": "2b1e5d39-4767-40af-979b-3e24525602c7",
   "metadata": {},
   "outputs": [
    {
     "name": "stdout",
     "output_type": "stream",
     "text": [
      "Precision@k = 0.0004678362573099414\n",
      "Recall@k = 0.0005375414806946926\n",
      "NDCG@k = 0.0004890744896781479\n",
      "Mean average precision = 0.00013053467000835456\n"
     ]
    }
   ],
   "source": [
    "## Ranking metric\n",
    "evaluations = SparkRankingEvaluation(\n",
    "    dfs_test, \n",
    "    dfs_base_pred_final,\n",
    "    col_user=COL_USER,\n",
    "    col_item=COL_ITEM,\n",
    "    col_rating=COL_RATING,\n",
    "    col_prediction=COL_PREDICTION,\n",
    "    k=K\n",
    ")\n",
    "\n",
    "print(\n",
    "    \"Precision@k = {}\".format(evaluations.precision_at_k()),\n",
    "    \"Recall@k = {}\".format(evaluations.recall_at_k()),\n",
    "    \"NDCG@k = {}\".format(evaluations.ndcg_at_k()),\n",
    "    \"Mean average precision = {}\".format(evaluations.map_at_k()),\n",
    "    sep=\"\\n\"\n",
    ")"
   ]
  },
  {
   "cell_type": "markdown",
   "id": "ee2adb98-aaea-44d8-b654-c0df79cb5c4c",
   "metadata": {},
   "source": [
    "## Fine tune model"
   ]
  },
  {
   "cell_type": "markdown",
   "id": "65cce9cd-537a-481f-ad73-47105efe3b56",
   "metadata": {},
   "source": [
    "An ALS model is often affected by these parameters:\n",
    "\n",
    "rank: default 10: The larger the more intrinsic factors considered in the factorization modeling\n",
    "\n",
    "regParam: default 1.0: The value needs to be selected empirically to avoid overfitting\n",
    "\n",
    "maxIters: default 10: The more iterations the better model converges to optimal point\n",
    "\n",
    "We have used default parameter and then, we will use paramGridBuilder to find optimal conbination of parameters"
   ]
  },
  {
   "cell_type": "code",
   "execution_count": 174,
   "id": "8b4171f3-827e-4438-964b-006e15b7fbbc",
   "metadata": {},
   "outputs": [],
   "source": [
    "param_dict = {\n",
    "    \"rank\": [10, 15, 20, 25, 30, 35, 40],\n",
    "    \"regParam\": [0.01, 0.05, 0.1, 0.15, 0.5, 1]\n",
    "}\n",
    "\n",
    "param_dict = {\n",
    "    \"rank\": [10, 25, 40],\n",
    "    \"regParam\": [0.5, 0.7, 1.0]\n",
    "}"
   ]
  },
  {
   "cell_type": "code",
   "execution_count": 175,
   "id": "4c4377be-e370-4861-bb5b-3016d151a113",
   "metadata": {},
   "outputs": [
    {
     "name": "stdout",
     "output_type": "stream",
     "text": [
      "[[12, 0.5], [12, 0.7], [25, 0.5], [25, 0.7], [40, 0.5], [40, 0.7]]\n"
     ]
    }
   ],
   "source": [
    "param_grid = generate_param_grid(param_dict)\n",
    "grid = list()\n",
    "for g in param_grid:\n",
    "    grid.append(list(g.values()))\n",
    "print(grid)"
   ]
  },
  {
   "cell_type": "code",
   "execution_count": 176,
   "id": "2ea66a0d-c31b-4ccc-88c4-68dd63bc7e55",
   "metadata": {},
   "outputs": [],
   "source": [
    "dfs_train.cache()\n",
    "dfs_test.cache()\n",
    "rmse_score_train = []\n",
    "rmse_score_test = []\n",
    "t = []\n",
    "\n",
    "for g in grid:\n",
    "    als = ALS(        \n",
    "        userCol=COL_USER, \n",
    "        itemCol=COL_ITEM, \n",
    "        ratingCol=COL_RATING,\n",
    "        maxIter = 25,\n",
    "        #nonnegative=True,\n",
    "        coldStartStrategy=\"drop\",\n",
    "        #**g\n",
    "    )\n",
    "    \n",
    "    evaluator = RegressionEvaluator(metricName=\"rmse\", labelCol=\"rating\", predictionCol=\"prediction\")\n",
    "    # tuning model using ParamGridBuilder\n",
    "    param_grid_ = ParamGridBuilder()\\\n",
    "             .addGrid(als.rank, [g[0]])\\\n",
    "             .addGrid(als.regParam, [g[1]])\\\n",
    "             .build()\n",
    "    \n",
    "    crossval = CrossValidator(estimator=als,\n",
    "                          estimatorParamMaps=param_grid_,\n",
    "                          evaluator=evaluator,\n",
    "                          numFolds=10, seed=12)\n",
    "    \n",
    "    model = crossval.fit(dfs_train)\n",
    "    best_model = model.bestModel\n",
    "    \n",
    "    #dfs_pred = model.transform(dfs_test).drop(COL_RATING)\n",
    "    dfs_pred_train = best_model.transform(dfs_train)\n",
    "    rmse_train = evaluator.evaluate(dfs_pred_train)\n",
    "    \n",
    "    dfs_pred_test = best_model.transform(dfs_test)\n",
    "    rmse_test = evaluator.evaluate(dfs_pred_test)\n",
    "        \n",
    "    rmse_score_train.append(rmse_train)\n",
    "    rmse_score_test.append(rmse_test)\n",
    "    \n",
    "rmse_score_train = [float('%.5f' % x) for x in rmse_score_train]\n",
    "rmse_score_test = [float('%.5f' % x) for x in rmse_score_test]\n",
    "\n",
    "rmse_score_train_array = np.reshape(rmse_score_train, (len(param_dict[\"rank\"]), len(param_dict[\"regParam\"]))) \n",
    "rmse_score_test_array = np.reshape(rmse_score_test, (len(param_dict[\"rank\"]), len(param_dict[\"regParam\"]))) "
   ]
  },
  {
   "cell_type": "code",
   "execution_count": 177,
   "id": "569a091b-ef6e-41ec-b8ea-4129c5b0b0fe",
   "metadata": {},
   "outputs": [],
   "source": [
    "rmse_train = pd.DataFrame(data=rmse_score_train_array, index=pd.Index(param_dict[\"rank\"], name=\"rank\"), \n",
    "                       columns=pd.Index(param_dict[\"regParam\"], name=\"reg. parameter\"))\n",
    "rmse_test = pd.DataFrame(data=rmse_score_test_array, index=pd.Index(param_dict[\"rank\"], name=\"rank\"), \n",
    "                       columns=pd.Index(param_dict[\"regParam\"], name=\"reg. parameter\"))"
   ]
  },
  {
   "cell_type": "code",
   "execution_count": 178,
   "id": "2ef19338-a806-4f35-90f5-413034b380d5",
   "metadata": {},
   "outputs": [
    {
     "data": {
      "text/plain": [
       "<Axes: xlabel='reg. parameter', ylabel='rank'>"
      ]
     },
     "execution_count": 178,
     "metadata": {},
     "output_type": "execute_result"
    },
    {
     "data": {
      "image/png": "[encoded data removed]",
      "text/plain": [
       "<Figure size 640x480 with 1 Axes>"
      ]
     },
     "metadata": {},
     "output_type": "display_data"
    }
   ],
   "source": [
    "fig, ax = plt.subplots()\n",
    "sns.heatmap(rmse_train, cbar=False, annot=True, fmt=\".4g\")"
   ]
  },
  {
   "cell_type": "markdown",
   "id": "691cddac-01c4-44ad-a6b0-71ea55432074",
   "metadata": {},
   "source": [
    "Từ biểu đồ tập train, rank càng lớn rmse càng giảm. Tuy nhiên, rmse trên tập test giảm khi reg tăng -> khả năng overfit"
   ]
  },
  {
   "cell_type": "code",
   "execution_count": 179,
   "id": "7c4a906c-728b-473f-b342-1470483a9b49",
   "metadata": {},
   "outputs": [
    {
     "data": {
      "text/plain": [
       "<Axes: xlabel='reg. parameter', ylabel='rank'>"
      ]
     },
     "execution_count": 179,
     "metadata": {},
     "output_type": "execute_result"
    },
    {
     "data": {
      "image/png": "[encoded data removed]",
      "text/plain": [
       "<Figure size 640x480 with 1 Axes>"
      ]
     },
     "metadata": {},
     "output_type": "display_data"
    }
   ],
   "source": [
    "fig, ax = plt.subplots()\n",
    "sns.heatmap(rmse_test, cbar=False, annot=True, fmt=\".4g\")"
   ]
  },
  {
   "cell_type": "markdown",
   "id": "1456bdb2-4b52-42e4-a97f-30bf4d5d1dfd",
   "metadata": {},
   "source": [
    "Our final model is: rank=40, regParam=0.7, maxIter=25"
   ]
  },
  {
   "cell_type": "code",
   "execution_count": 251,
   "id": "ec96d07e-0f87-41f5-a7ee-ef1ad89faf93",
   "metadata": {},
   "outputs": [],
   "source": [
    "# 25 75, 0.2\n",
    "als = ALS(        \n",
    "        userCol=COL_USER, \n",
    "        itemCol=COL_ITEM, \n",
    "        ratingCol=COL_RATING,\n",
    "        maxIter = 30,\n",
    "        #nonnegative=True,\n",
    "        coldStartStrategy=\"drop\",\n",
    "        #**g\n",
    "    )\n",
    "    \n",
    "evaluator = RegressionEvaluator(metricName=\"rmse\", labelCol=\"rating\", predictionCol=\"prediction\")\n",
    "# tuning model using ParamGridBuilder\n",
    "param_grid_ = ParamGridBuilder()\\\n",
    "         .addGrid(als.rank, [40])\\\n",
    "         .addGrid(als.regParam, [0.7])\\\n",
    "         .build()\n",
    "\n",
    "crossval = CrossValidator(estimator=als,\n",
    "                      estimatorParamMaps=param_grid_,\n",
    "                      evaluator=evaluator,\n",
    "                      numFolds=10, seed=12)\n",
    "\n",
    "model = crossval.fit(dfs_train)\n",
    "best_model = model.bestModel\n"
   ]
  },
  {
   "cell_type": "code",
   "execution_count": 252,
   "id": "21c88728-4772-4ca8-8553-852d91687b43",
   "metadata": {},
   "outputs": [
    {
     "data": {
      "text/plain": [
       "ALSModel: uid=ALS_1b6f4b7fe324, rank=40"
      ]
     },
     "execution_count": 252,
     "metadata": {},
     "output_type": "execute_result"
    }
   ],
   "source": [
    "best_model"
   ]
  },
  {
   "cell_type": "code",
   "execution_count": 253,
   "id": "ca41fcab-8b6d-48ea-b70c-eac4bde72672",
   "metadata": {},
   "outputs": [
    {
     "name": "stdout",
     "output_type": "stream",
     "text": [
      "+-------+-------+----------+\n",
      "|user_id|item_id|prediction|\n",
      "+-------+-------+----------+\n",
      "|    254|    4.0|0.84624684|\n",
      "|    254|    5.0| 1.1857511|\n",
      "|    254|    9.0| 1.1308819|\n",
      "|    254|   10.0| 2.5380187|\n",
      "|    254|   11.0| 1.7125052|\n",
      "|    254|   15.0|0.18572026|\n",
      "|    254|   17.0|0.37184167|\n",
      "|    254|   24.0|0.93865645|\n",
      "|    254|   26.0| 1.3506838|\n",
      "|    254|   33.0| 0.9472929|\n",
      "|    254|   36.0|0.90357924|\n",
      "|    254|   47.0| 1.5919033|\n",
      "|    254|   56.0|0.47547498|\n",
      "|    254|   59.0|0.64975697|\n",
      "|    254|   62.0| 0.7967491|\n",
      "|    254|   66.0| 1.2357599|\n",
      "|    254|   68.0| 1.0046144|\n",
      "|    254|   86.0| 1.3285736|\n",
      "|    254|  101.0| 1.3124747|\n",
      "|    254|  106.0| 0.8335207|\n",
      "+-------+-------+----------+\n",
      "only showing top 20 rows\n",
      "\n"
     ]
    }
   ],
   "source": [
    "# Get the cross join of all user-item pairs and score them.\n",
    "users = dfs_train.select(COL_USER).distinct()\n",
    "items = dfs_train.select(COL_ITEM).distinct()\n",
    "user_item = users.crossJoin(items)\n",
    "dfs_best_pred = best_model.transform(user_item)\n",
    "\n",
    "# Remove seen items.\n",
    "dfs_best_pred_exclude_train = dfs_best_pred.alias(\"pred\").join(\n",
    "    dfs_train.alias(\"train\"),\n",
    "    (dfs_best_pred[COL_USER] == dfs_train[COL_USER]) & (dfs_best_pred[COL_ITEM] == dfs_train[COL_ITEM]),\n",
    "    how='outer'\n",
    ")\n",
    "\n",
    "dfs_best_pred_final = dfs_best_pred_exclude_train.filter(dfs_best_pred_exclude_train[\"train.Rating\"].isNull()) \\\n",
    "    .select('pred.' + COL_USER, 'pred.' + COL_ITEM, 'pred.' + \"prediction\")\n",
    "\n",
    "dfs_best_pred_final.show()"
   ]
  },
  {
   "cell_type": "code",
   "execution_count": 254,
   "id": "aebbe0c2-fa5b-4521-9914-dedd9e88e8bf",
   "metadata": {},
   "outputs": [
    {
     "name": "stdout",
     "output_type": "stream",
     "text": [
      "Precision@k = 0.0032748538011695915\n",
      "Recall@k = 0.0031159980770190513\n",
      "NDCG@k = 0.003227375260491459\n",
      "Mean average precision = 0.0008985658590921739\n"
     ]
    }
   ],
   "source": [
    "## Ranking metric\n",
    "evaluations = SparkRankingEvaluation(\n",
    "    dfs_test, \n",
    "    dfs_best_pred_final,\n",
    "    col_user=COL_USER,\n",
    "    col_item=COL_ITEM,\n",
    "    col_rating=COL_RATING,\n",
    "    col_prediction=COL_PREDICTION,\n",
    "    k=K\n",
    ")\n",
    "\n",
    "print(\n",
    "    \"Precision@k = {}\".format(evaluations.precision_at_k()),\n",
    "    \"Recall@k = {}\".format(evaluations.recall_at_k()),\n",
    "    \"NDCG@k = {}\".format(evaluations.ndcg_at_k()),\n",
    "    \"Mean average precision = {}\".format(evaluations.map_at_k()),\n",
    "    sep=\"\\n\"\n",
    ")"
   ]
  },
  {
   "cell_type": "code",
   "execution_count": 255,
   "id": "7cc26ac1-481a-4801-8f6f-6c63ff283b4b",
   "metadata": {},
   "outputs": [],
   "source": [
    "dfs_best_pred = best_model.transform(dfs_test)"
   ]
  },
  {
   "cell_type": "code",
   "execution_count": 256,
   "id": "ef6b1554-694e-44d9-b681-ec9fba2f3ee5",
   "metadata": {},
   "outputs": [
    {
     "name": "stdout",
     "output_type": "stream",
     "text": [
      "RMSE score = 3.3373993653804126\n",
      "MAE score = 2.2219355402202585\n"
     ]
    }
   ],
   "source": [
    "evaluations = SparkRatingEvaluation(\n",
    "    dfs_test, \n",
    "    dfs_best_pred,\n",
    "    col_user=COL_USER,\n",
    "    col_item=COL_ITEM,\n",
    "    col_rating=COL_RATING,\n",
    "    col_prediction=COL_PREDICTION\n",
    ")\n",
    "\n",
    "print(\n",
    "    \"RMSE score = {}\".format(evaluations.rmse()),\n",
    "    \"MAE score = {}\".format(evaluations.mae()),\n",
    "    sep=\"\\n\"\n",
    ")"
   ]
  },
  {
   "cell_type": "code",
   "execution_count": 257,
   "id": "378d84b2-003c-4f0c-a8f0-f46e67fd5ee7",
   "metadata": {},
   "outputs": [
    {
     "name": "stdout",
     "output_type": "stream",
     "text": [
      "Training RMSE: 2.646365225378535\n",
      "Test RMSE: 3.3373993653804126\n",
      "Whole data RMSE: 2.798752302823243\n"
     ]
    }
   ],
   "source": [
    "# Assuming 'model' is your ALS model and 'test_data' is your test dataset\n",
    "predictions_train = best_model.transform(dfs_train)\n",
    "rmse_train = evaluator.evaluate(predictions_train)\n",
    "\n",
    "predictions_test = best_model.transform(dfs_test)\n",
    "rmse_test = evaluator.evaluate(predictions_test)\n",
    "\n",
    "whole_data = best_model.transform(data)\n",
    "rmse_data = evaluator.evaluate(whole_data)\n",
    "\n",
    "print(\"Training RMSE: {}\".format(rmse_train))\n",
    "print(\"Test RMSE: {}\".format(rmse_test))\n",
    "print(\"Whole data RMSE: {}\".format(rmse_data))"
   ]
  },
  {
   "cell_type": "code",
   "execution_count": 258,
   "id": "0fbb625d-7807-4ebf-b6cf-8cf9de9df5d8",
   "metadata": {},
   "outputs": [],
   "source": [
    "dfs_rec = best_model.recommendForAllUsers(10)"
   ]
  },
  {
   "cell_type": "code",
   "execution_count": 259,
   "id": "e7c859ff-5883-4411-bdc1-010b3d2ddb6f",
   "metadata": {},
   "outputs": [
    {
     "name": "stdout",
     "output_type": "stream",
     "text": [
      "+-------+--------------------+\n",
      "|user_id|     recommendations|\n",
      "+-------+--------------------+\n",
      "|   3757|[{1393, 7.607109}...|\n",
      "|   4017|[{1487, 11.170549...|\n",
      "|   6323|[{1642, 3.465898}...|\n",
      "|   6543|[{1464, 6.1695385...|\n",
      "|   6563|[{1849, 9.508609}...|\n",
      "|   7158|[{1158, 4.1051245...|\n",
      "|   7286|[{1662, 6.289874}...|\n",
      "|   7346|[{1462, 7.6140914...|\n",
      "|   8067|[{1464, 11.044378...|\n",
      "|   8681|[{1366, 7.6785727...|\n",
      "+-------+--------------------+\n",
      "only showing top 10 rows\n",
      "\n"
     ]
    }
   ],
   "source": [
    "dfs_rec.show(10)"
   ]
  },
  {
   "cell_type": "code",
   "execution_count": 218,
   "id": "94321584-98e8-4328-9ba1-654827291d12",
   "metadata": {},
   "outputs": [
    {
     "name": "stdout",
     "output_type": "stream",
     "text": [
      "+-------+--------------------+\n",
      "|user_id|     recommendations|\n",
      "+-------+--------------------+\n",
      "|  69042|[{1685, 1.0337102...|\n",
      "|  26583|[{1939, 13.445543...|\n",
      "|  15957|[{1729, 4.8862863...|\n",
      "+-------+--------------------+\n",
      "\n"
     ]
    }
   ],
   "source": [
    "## top 10 for selected set of users\n",
    "users = dfs_train.select(als.getUserCol()).distinct().limit(3)\n",
    "dfs_rec_subset = best_model.recommendForUserSubset(users, 10)\n",
    "dfs_rec_subset.show(10)"
   ]
  },
  {
   "cell_type": "code",
   "execution_count": 221,
   "id": "37fad39c-63f5-4393-98c1-792cd08c4511",
   "metadata": {},
   "outputs": [
    {
     "name": "stdout",
     "output_type": "stream",
     "text": [
      "+-------+------------------------------------------------------------------------------------------------+\n",
      "|user_id|recommendations                                                                                 |\n",
      "+-------+------------------------------------------------------------------------------------------------+\n",
      "|69042  |[{1685, 1.0337102}, {2028, 0.8914637}, {1849, 0.88131654}, {1259, 0.8600976}, {1939, 0.8577861}]|\n",
      "+-------+------------------------------------------------------------------------------------------------+\n",
      "\n"
     ]
    }
   ],
   "source": [
    "## Recommend for a specific user\n",
    "user_id_to_recommend = 69042\n",
    "user_to_recommend_df = spark.createDataFrame([(user_id_to_recommend,)], [\"user_id\"])\n",
    "\n",
    "recommendations = best_model.recommendForUserSubset(user_to_recommend_df, 5)\n",
    "\n",
    "recommendations.show(truncate=False)"
   ]
  },
  {
   "cell_type": "code",
   "execution_count": 222,
   "id": "6682f39e-9090-4f0f-85e7-b519873d9521",
   "metadata": {},
   "outputs": [],
   "source": [
    "## Save model\n",
    "best_model.save(\"./model/model_1\")"
   ]
  },
  {
   "cell_type": "code",
   "execution_count": null,
   "id": "faaf9faa-3bea-4eaa-946d-3e308aeab45b",
   "metadata": {},
   "outputs": [],
   "source": []
  }
 ],
 "metadata": {
  "kernelspec": {
   "display_name": "Python 3 (ipykernel)",
   "language": "python",
   "name": "python3"
  },
  "language_info": {
   "codemirror_mode": {
    "name": "ipython",
    "version": 3
   },
   "file_extension": ".py",
   "mimetype": "text/x-python",
   "name": "python",
   "nbconvert_exporter": "python",
   "pygments_lexer": "ipython3",
   "version": "3.11.6"
  }
 },
 "nbformat": 4,
 "nbformat_minor": 5
}
