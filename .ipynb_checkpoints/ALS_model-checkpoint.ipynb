{
 "cells": [
  {
   "cell_type": "code",
   "execution_count": 4,
   "id": "f8638fda-0b5d-4544-a5d3-7504227fbcab",
   "metadata": {},
   "outputs": [],
   "source": [
    "import pandas as pd\n",
    "import numpy as np\n",
    "import matplotlib.pyplot as plt\n",
    "import seaborn as sns"
   ]
  },
  {
   "cell_type": "code",
   "execution_count": 8,
   "id": "785ccda8-7582-437a-ac2b-16e153a26de0",
   "metadata": {},
   "outputs": [
    {
     "name": "stderr",
     "output_type": "stream",
     "text": [
      "/tmp/ipykernel_23164/710249312.py:1: DtypeWarning: Columns (3) have mixed types. Specify dtype option on import or set low_memory=False.\n",
      "  books = pd.read_csv('./data/archive/BX-Books.csv', sep=\";\", on_bad_lines=\"skip\", encoding=\"latin1\")\n"
     ]
    },
    {
     "data": {
      "text/html": [
       "<div>\n",
       "<style scoped>\n",
       "    .dataframe tbody tr th:only-of-type {\n",
       "        vertical-align: middle;\n",
       "    }\n",
       "\n",
       "    .dataframe tbody tr th {\n",
       "        vertical-align: top;\n",
       "    }\n",
       "\n",
       "    .dataframe thead th {\n",
       "        text-align: right;\n",
       "    }\n",
       "</style>\n",
       "<table border=\"1\" class=\"dataframe\">\n",
       "  <thead>\n",
       "    <tr style=\"text-align: right;\">\n",
       "      <th></th>\n",
       "      <th>ISBN</th>\n",
       "      <th>Book-Title</th>\n",
       "      <th>Book-Author</th>\n",
       "      <th>Year-Of-Publication</th>\n",
       "      <th>Publisher</th>\n",
       "      <th>Image-URL-S</th>\n",
       "      <th>Image-URL-M</th>\n",
       "      <th>Image-URL-L</th>\n",
       "    </tr>\n",
       "  </thead>\n",
       "  <tbody>\n",
       "    <tr>\n",
       "      <th>0</th>\n",
       "      <td>0195153448</td>\n",
       "      <td>Classical Mythology</td>\n",
       "      <td>Mark P. O. Morford</td>\n",
       "      <td>2002</td>\n",
       "      <td>Oxford University Press</td>\n",
       "      <td>http://images.amazon.com/images/P/0195153448.0...</td>\n",
       "      <td>http://images.amazon.com/images/P/0195153448.0...</td>\n",
       "      <td>http://images.amazon.com/images/P/0195153448.0...</td>\n",
       "    </tr>\n",
       "    <tr>\n",
       "      <th>1</th>\n",
       "      <td>0002005018</td>\n",
       "      <td>Clara Callan</td>\n",
       "      <td>Richard Bruce Wright</td>\n",
       "      <td>2001</td>\n",
       "      <td>HarperFlamingo Canada</td>\n",
       "      <td>http://images.amazon.com/images/P/0002005018.0...</td>\n",
       "      <td>http://images.amazon.com/images/P/0002005018.0...</td>\n",
       "      <td>http://images.amazon.com/images/P/0002005018.0...</td>\n",
       "    </tr>\n",
       "    <tr>\n",
       "      <th>2</th>\n",
       "      <td>0060973129</td>\n",
       "      <td>Decision in Normandy</td>\n",
       "      <td>Carlo D'Este</td>\n",
       "      <td>1991</td>\n",
       "      <td>HarperPerennial</td>\n",
       "      <td>http://images.amazon.com/images/P/0060973129.0...</td>\n",
       "      <td>http://images.amazon.com/images/P/0060973129.0...</td>\n",
       "      <td>http://images.amazon.com/images/P/0060973129.0...</td>\n",
       "    </tr>\n",
       "    <tr>\n",
       "      <th>3</th>\n",
       "      <td>0374157065</td>\n",
       "      <td>Flu: The Story of the Great Influenza Pandemic...</td>\n",
       "      <td>Gina Bari Kolata</td>\n",
       "      <td>1999</td>\n",
       "      <td>Farrar Straus Giroux</td>\n",
       "      <td>http://images.amazon.com/images/P/0374157065.0...</td>\n",
       "      <td>http://images.amazon.com/images/P/0374157065.0...</td>\n",
       "      <td>http://images.amazon.com/images/P/0374157065.0...</td>\n",
       "    </tr>\n",
       "  </tbody>\n",
       "</table>\n",
       "</div>"
      ],
      "text/plain": [
       "         ISBN                                         Book-Title  \\\n",
       "0  0195153448                                Classical Mythology   \n",
       "1  0002005018                                       Clara Callan   \n",
       "2  0060973129                               Decision in Normandy   \n",
       "3  0374157065  Flu: The Story of the Great Influenza Pandemic...   \n",
       "\n",
       "            Book-Author Year-Of-Publication                Publisher  \\\n",
       "0    Mark P. O. Morford                2002  Oxford University Press   \n",
       "1  Richard Bruce Wright                2001    HarperFlamingo Canada   \n",
       "2          Carlo D'Este                1991          HarperPerennial   \n",
       "3      Gina Bari Kolata                1999     Farrar Straus Giroux   \n",
       "\n",
       "                                         Image-URL-S  \\\n",
       "0  http://images.amazon.com/images/P/0195153448.0...   \n",
       "1  http://images.amazon.com/images/P/0002005018.0...   \n",
       "2  http://images.amazon.com/images/P/0060973129.0...   \n",
       "3  http://images.amazon.com/images/P/0374157065.0...   \n",
       "\n",
       "                                         Image-URL-M  \\\n",
       "0  http://images.amazon.com/images/P/0195153448.0...   \n",
       "1  http://images.amazon.com/images/P/0002005018.0...   \n",
       "2  http://images.amazon.com/images/P/0060973129.0...   \n",
       "3  http://images.amazon.com/images/P/0374157065.0...   \n",
       "\n",
       "                                         Image-URL-L  \n",
       "0  http://images.amazon.com/images/P/0195153448.0...  \n",
       "1  http://images.amazon.com/images/P/0002005018.0...  \n",
       "2  http://images.amazon.com/images/P/0060973129.0...  \n",
       "3  http://images.amazon.com/images/P/0374157065.0...  "
      ]
     },
     "execution_count": 8,
     "metadata": {},
     "output_type": "execute_result"
    }
   ],
   "source": [
    "books = pd.read_csv('./data/archive/BX-Books.csv', sep=\";\", on_bad_lines=\"skip\", encoding=\"latin1\")\n",
    "books.head(4)"
   ]
  },
  {
   "cell_type": "code",
   "execution_count": 9,
   "id": "d9da502e-6792-4113-aa46-c288e80fbfff",
   "metadata": {},
   "outputs": [
    {
     "data": {
      "text/plain": [
       "'http://images.amazon.com/images/P/0195153448.01.MZZZZZZZ.jpg'"
      ]
     },
     "execution_count": 9,
     "metadata": {},
     "output_type": "execute_result"
    }
   ],
   "source": [
    "books['Image-URL-M'][0]"
   ]
  },
  {
   "cell_type": "code",
   "execution_count": 11,
   "id": "8cd58c0a-9030-4f94-a2a6-33bdc958229d",
   "metadata": {},
   "outputs": [
    {
     "data": {
      "text/plain": [
       "(271360, 8)"
      ]
     },
     "execution_count": 11,
     "metadata": {},
     "output_type": "execute_result"
    }
   ],
   "source": [
    "books.shape"
   ]
  },
  {
   "cell_type": "code",
   "execution_count": 12,
   "id": "c479f0a8-d90b-4677-a316-d9be0b762bc8",
   "metadata": {},
   "outputs": [
    {
     "data": {
      "text/plain": [
       "Index(['ISBN', 'Book-Title', 'Book-Author', 'Year-Of-Publication', 'Publisher',\n",
       "       'Image-URL-S', 'Image-URL-M', 'Image-URL-L'],\n",
       "      dtype='object')"
      ]
     },
     "execution_count": 12,
     "metadata": {},
     "output_type": "execute_result"
    }
   ],
   "source": [
    "books.columns"
   ]
  },
  {
   "cell_type": "code",
   "execution_count": 13,
   "id": "f45c9782-4422-4d66-ad91-281785b8cf66",
   "metadata": {},
   "outputs": [],
   "source": [
    "books = books[['ISBN', 'Book-Title', 'Book-Author', 'Year-Of-Publication', 'Publisher',\n",
    "       'Image-URL-L']]"
   ]
  },
  {
   "cell_type": "code",
   "execution_count": 14,
   "id": "f13cb1b6-8565-4da7-919a-8ca243ec6ef7",
   "metadata": {},
   "outputs": [
    {
     "data": {
      "text/html": [
       "<div>\n",
       "<style scoped>\n",
       "    .dataframe tbody tr th:only-of-type {\n",
       "        vertical-align: middle;\n",
       "    }\n",
       "\n",
       "    .dataframe tbody tr th {\n",
       "        vertical-align: top;\n",
       "    }\n",
       "\n",
       "    .dataframe thead th {\n",
       "        text-align: right;\n",
       "    }\n",
       "</style>\n",
       "<table border=\"1\" class=\"dataframe\">\n",
       "  <thead>\n",
       "    <tr style=\"text-align: right;\">\n",
       "      <th></th>\n",
       "      <th>ISBN</th>\n",
       "      <th>Book-Title</th>\n",
       "      <th>Book-Author</th>\n",
       "      <th>Year-Of-Publication</th>\n",
       "      <th>Publisher</th>\n",
       "      <th>Image-URL-L</th>\n",
       "    </tr>\n",
       "  </thead>\n",
       "  <tbody>\n",
       "    <tr>\n",
       "      <th>0</th>\n",
       "      <td>0195153448</td>\n",
       "      <td>Classical Mythology</td>\n",
       "      <td>Mark P. O. Morford</td>\n",
       "      <td>2002</td>\n",
       "      <td>Oxford University Press</td>\n",
       "      <td>http://images.amazon.com/images/P/0195153448.0...</td>\n",
       "    </tr>\n",
       "    <tr>\n",
       "      <th>1</th>\n",
       "      <td>0002005018</td>\n",
       "      <td>Clara Callan</td>\n",
       "      <td>Richard Bruce Wright</td>\n",
       "      <td>2001</td>\n",
       "      <td>HarperFlamingo Canada</td>\n",
       "      <td>http://images.amazon.com/images/P/0002005018.0...</td>\n",
       "    </tr>\n",
       "  </tbody>\n",
       "</table>\n",
       "</div>"
      ],
      "text/plain": [
       "         ISBN           Book-Title           Book-Author Year-Of-Publication  \\\n",
       "0  0195153448  Classical Mythology    Mark P. O. Morford                2002   \n",
       "1  0002005018         Clara Callan  Richard Bruce Wright                2001   \n",
       "\n",
       "                 Publisher                                        Image-URL-L  \n",
       "0  Oxford University Press  http://images.amazon.com/images/P/0195153448.0...  \n",
       "1    HarperFlamingo Canada  http://images.amazon.com/images/P/0002005018.0...  "
      ]
     },
     "execution_count": 14,
     "metadata": {},
     "output_type": "execute_result"
    }
   ],
   "source": [
    "books.head(2)"
   ]
  },
  {
   "cell_type": "code",
   "execution_count": 15,
   "id": "3d25fd76-c489-4db6-a937-eb8497dc594c",
   "metadata": {},
   "outputs": [],
   "source": [
    "books.rename(columns={\n",
    "    \"Book-Title\": \"title\",\n",
    "    \"Book-Author\": \"author\",\n",
    "    \"Year-Of-Publication\": \"year\",\n",
    "    \"Publisher\": \"publisher\",\n",
    "    \"Image-URL-L\": \"img_url\"\n",
    "}, inplace=True)"
   ]
  },
  {
   "cell_type": "code",
   "execution_count": 16,
   "id": "c25b29e4-da12-4af5-986b-cecba11e5339",
   "metadata": {},
   "outputs": [
    {
     "data": {
      "text/html": [
       "<div>\n",
       "<style scoped>\n",
       "    .dataframe tbody tr th:only-of-type {\n",
       "        vertical-align: middle;\n",
       "    }\n",
       "\n",
       "    .dataframe tbody tr th {\n",
       "        vertical-align: top;\n",
       "    }\n",
       "\n",
       "    .dataframe thead th {\n",
       "        text-align: right;\n",
       "    }\n",
       "</style>\n",
       "<table border=\"1\" class=\"dataframe\">\n",
       "  <thead>\n",
       "    <tr style=\"text-align: right;\">\n",
       "      <th></th>\n",
       "      <th>ISBN</th>\n",
       "      <th>title</th>\n",
       "      <th>author</th>\n",
       "      <th>year</th>\n",
       "      <th>publisher</th>\n",
       "      <th>img_url</th>\n",
       "    </tr>\n",
       "  </thead>\n",
       "  <tbody>\n",
       "    <tr>\n",
       "      <th>0</th>\n",
       "      <td>0195153448</td>\n",
       "      <td>Classical Mythology</td>\n",
       "      <td>Mark P. O. Morford</td>\n",
       "      <td>2002</td>\n",
       "      <td>Oxford University Press</td>\n",
       "      <td>http://images.amazon.com/images/P/0195153448.0...</td>\n",
       "    </tr>\n",
       "    <tr>\n",
       "      <th>1</th>\n",
       "      <td>0002005018</td>\n",
       "      <td>Clara Callan</td>\n",
       "      <td>Richard Bruce Wright</td>\n",
       "      <td>2001</td>\n",
       "      <td>HarperFlamingo Canada</td>\n",
       "      <td>http://images.amazon.com/images/P/0002005018.0...</td>\n",
       "    </tr>\n",
       "    <tr>\n",
       "      <th>2</th>\n",
       "      <td>0060973129</td>\n",
       "      <td>Decision in Normandy</td>\n",
       "      <td>Carlo D'Este</td>\n",
       "      <td>1991</td>\n",
       "      <td>HarperPerennial</td>\n",
       "      <td>http://images.amazon.com/images/P/0060973129.0...</td>\n",
       "    </tr>\n",
       "  </tbody>\n",
       "</table>\n",
       "</div>"
      ],
      "text/plain": [
       "         ISBN                 title                author  year  \\\n",
       "0  0195153448   Classical Mythology    Mark P. O. Morford  2002   \n",
       "1  0002005018          Clara Callan  Richard Bruce Wright  2001   \n",
       "2  0060973129  Decision in Normandy          Carlo D'Este  1991   \n",
       "\n",
       "                 publisher                                            img_url  \n",
       "0  Oxford University Press  http://images.amazon.com/images/P/0195153448.0...  \n",
       "1    HarperFlamingo Canada  http://images.amazon.com/images/P/0002005018.0...  \n",
       "2          HarperPerennial  http://images.amazon.com/images/P/0060973129.0...  "
      ]
     },
     "execution_count": 16,
     "metadata": {},
     "output_type": "execute_result"
    }
   ],
   "source": [
    "books.head(3)"
   ]
  },
  {
   "cell_type": "code",
   "execution_count": 17,
   "id": "19449130-96da-4fc4-adec-1808a647bb4b",
   "metadata": {},
   "outputs": [],
   "source": [
    "users = pd.read_csv(\"./data/archive/BX-Users.csv\", sep=\";\", on_bad_lines=\"skip\", encoding=\"latin1\")"
   ]
  },
  {
   "cell_type": "code",
   "execution_count": 18,
   "id": "d9401c19-25aa-45c5-824a-26a31e3c1459",
   "metadata": {},
   "outputs": [
    {
     "data": {
      "text/html": [
       "<div>\n",
       "<style scoped>\n",
       "    .dataframe tbody tr th:only-of-type {\n",
       "        vertical-align: middle;\n",
       "    }\n",
       "\n",
       "    .dataframe tbody tr th {\n",
       "        vertical-align: top;\n",
       "    }\n",
       "\n",
       "    .dataframe thead th {\n",
       "        text-align: right;\n",
       "    }\n",
       "</style>\n",
       "<table border=\"1\" class=\"dataframe\">\n",
       "  <thead>\n",
       "    <tr style=\"text-align: right;\">\n",
       "      <th></th>\n",
       "      <th>User-ID</th>\n",
       "      <th>Location</th>\n",
       "      <th>Age</th>\n",
       "    </tr>\n",
       "  </thead>\n",
       "  <tbody>\n",
       "    <tr>\n",
       "      <th>0</th>\n",
       "      <td>1</td>\n",
       "      <td>nyc, new york, usa</td>\n",
       "      <td>NaN</td>\n",
       "    </tr>\n",
       "    <tr>\n",
       "      <th>1</th>\n",
       "      <td>2</td>\n",
       "      <td>stockton, california, usa</td>\n",
       "      <td>18.0</td>\n",
       "    </tr>\n",
       "    <tr>\n",
       "      <th>2</th>\n",
       "      <td>3</td>\n",
       "      <td>moscow, yukon territory, russia</td>\n",
       "      <td>NaN</td>\n",
       "    </tr>\n",
       "  </tbody>\n",
       "</table>\n",
       "</div>"
      ],
      "text/plain": [
       "   User-ID                         Location   Age\n",
       "0        1               nyc, new york, usa   NaN\n",
       "1        2        stockton, california, usa  18.0\n",
       "2        3  moscow, yukon territory, russia   NaN"
      ]
     },
     "execution_count": 18,
     "metadata": {},
     "output_type": "execute_result"
    }
   ],
   "source": [
    "users.head(3)"
   ]
  },
  {
   "cell_type": "code",
   "execution_count": 19,
   "id": "6f0967cc-518b-402d-bce7-de332c7e9398",
   "metadata": {},
   "outputs": [
    {
     "data": {
      "text/plain": [
       "(278858, 3)"
      ]
     },
     "execution_count": 19,
     "metadata": {},
     "output_type": "execute_result"
    }
   ],
   "source": [
    "users.shape"
   ]
  },
  {
   "cell_type": "code",
   "execution_count": 20,
   "id": "877477eb-5bb4-4869-8407-109dec45cb2b",
   "metadata": {},
   "outputs": [],
   "source": [
    "ratings = pd.read_csv(\"./data/archive/BX-Book-Ratings.csv\", sep=\";\", on_bad_lines=\"skip\", encoding=\"latin1\")"
   ]
  },
  {
   "cell_type": "code",
   "execution_count": 21,
   "id": "39988b55-596e-4372-8294-99f08a3ad004",
   "metadata": {},
   "outputs": [
    {
     "data": {
      "text/html": [
       "<div>\n",
       "<style scoped>\n",
       "    .dataframe tbody tr th:only-of-type {\n",
       "        vertical-align: middle;\n",
       "    }\n",
       "\n",
       "    .dataframe tbody tr th {\n",
       "        vertical-align: top;\n",
       "    }\n",
       "\n",
       "    .dataframe thead th {\n",
       "        text-align: right;\n",
       "    }\n",
       "</style>\n",
       "<table border=\"1\" class=\"dataframe\">\n",
       "  <thead>\n",
       "    <tr style=\"text-align: right;\">\n",
       "      <th></th>\n",
       "      <th>User-ID</th>\n",
       "      <th>ISBN</th>\n",
       "      <th>Book-Rating</th>\n",
       "    </tr>\n",
       "  </thead>\n",
       "  <tbody>\n",
       "    <tr>\n",
       "      <th>0</th>\n",
       "      <td>276725</td>\n",
       "      <td>034545104X</td>\n",
       "      <td>0</td>\n",
       "    </tr>\n",
       "    <tr>\n",
       "      <th>1</th>\n",
       "      <td>276726</td>\n",
       "      <td>0155061224</td>\n",
       "      <td>5</td>\n",
       "    </tr>\n",
       "    <tr>\n",
       "      <th>2</th>\n",
       "      <td>276727</td>\n",
       "      <td>0446520802</td>\n",
       "      <td>0</td>\n",
       "    </tr>\n",
       "  </tbody>\n",
       "</table>\n",
       "</div>"
      ],
      "text/plain": [
       "   User-ID        ISBN  Book-Rating\n",
       "0   276725  034545104X            0\n",
       "1   276726  0155061224            5\n",
       "2   276727  0446520802            0"
      ]
     },
     "execution_count": 21,
     "metadata": {},
     "output_type": "execute_result"
    }
   ],
   "source": [
    "ratings.head(3)"
   ]
  },
  {
   "cell_type": "code",
   "execution_count": 22,
   "id": "256fe622-8478-4b85-a21a-983a93205090",
   "metadata": {},
   "outputs": [
    {
     "data": {
      "text/plain": [
       "(1149780, 3)"
      ]
     },
     "execution_count": 22,
     "metadata": {},
     "output_type": "execute_result"
    }
   ],
   "source": [
    "ratings.shape"
   ]
  },
  {
   "cell_type": "code",
   "execution_count": 23,
   "id": "6fc1515d-08bf-4d74-93f5-ff3b41442938",
   "metadata": {},
   "outputs": [
    {
     "name": "stdout",
     "output_type": "stream",
     "text": [
      "(271360, 6)\n",
      "(278858, 3)\n",
      "(1149780, 3)\n"
     ]
    }
   ],
   "source": [
    "print(books.shape)\n",
    "print(users.shape)\n",
    "print(ratings.shape)"
   ]
  },
  {
   "cell_type": "code",
   "execution_count": 24,
   "id": "435b0033-70ff-4acd-987f-773d309b8f96",
   "metadata": {},
   "outputs": [],
   "source": [
    "ratings.rename(columns={\n",
    "    \"User-ID\": \"user_id\",\n",
    "    \"Book-Rating\": \"rating\"\n",
    "}, inplace=True)"
   ]
  },
  {
   "cell_type": "code",
   "execution_count": 25,
   "id": "cd31a3cb-ad3f-432f-88f8-59d22a992506",
   "metadata": {},
   "outputs": [
    {
     "data": {
      "text/html": [
       "<div>\n",
       "<style scoped>\n",
       "    .dataframe tbody tr th:only-of-type {\n",
       "        vertical-align: middle;\n",
       "    }\n",
       "\n",
       "    .dataframe tbody tr th {\n",
       "        vertical-align: top;\n",
       "    }\n",
       "\n",
       "    .dataframe thead th {\n",
       "        text-align: right;\n",
       "    }\n",
       "</style>\n",
       "<table border=\"1\" class=\"dataframe\">\n",
       "  <thead>\n",
       "    <tr style=\"text-align: right;\">\n",
       "      <th></th>\n",
       "      <th>user_id</th>\n",
       "      <th>ISBN</th>\n",
       "      <th>rating</th>\n",
       "    </tr>\n",
       "  </thead>\n",
       "  <tbody>\n",
       "    <tr>\n",
       "      <th>0</th>\n",
       "      <td>276725</td>\n",
       "      <td>034545104X</td>\n",
       "      <td>0</td>\n",
       "    </tr>\n",
       "    <tr>\n",
       "      <th>1</th>\n",
       "      <td>276726</td>\n",
       "      <td>0155061224</td>\n",
       "      <td>5</td>\n",
       "    </tr>\n",
       "    <tr>\n",
       "      <th>2</th>\n",
       "      <td>276727</td>\n",
       "      <td>0446520802</td>\n",
       "      <td>0</td>\n",
       "    </tr>\n",
       "  </tbody>\n",
       "</table>\n",
       "</div>"
      ],
      "text/plain": [
       "   user_id        ISBN  rating\n",
       "0   276725  034545104X       0\n",
       "1   276726  0155061224       5\n",
       "2   276727  0446520802       0"
      ]
     },
     "execution_count": 25,
     "metadata": {},
     "output_type": "execute_result"
    }
   ],
   "source": [
    "ratings.head(3)"
   ]
  },
  {
   "cell_type": "code",
   "execution_count": 26,
   "id": "8e2e2199-8810-4f06-b175-da1cdb3b2cec",
   "metadata": {},
   "outputs": [
    {
     "data": {
      "text/plain": [
       "user_id\n",
       "11676     13602\n",
       "198711     7550\n",
       "153662     6109\n",
       "98391      5891\n",
       "35859      5850\n",
       "          ...  \n",
       "116180        1\n",
       "116166        1\n",
       "116154        1\n",
       "116137        1\n",
       "276723        1\n",
       "Name: count, Length: 105283, dtype: int64"
      ]
     },
     "execution_count": 26,
     "metadata": {},
     "output_type": "execute_result"
    }
   ],
   "source": [
    "ratings['user_id'].value_counts()"
   ]
  },
  {
   "cell_type": "code",
   "execution_count": 27,
   "id": "06877752-36a5-49c2-af3a-7d22a3d5fbee",
   "metadata": {},
   "outputs": [
    {
     "data": {
      "text/plain": [
       "(105283,)"
      ]
     },
     "execution_count": 27,
     "metadata": {},
     "output_type": "execute_result"
    }
   ],
   "source": [
    "ratings['user_id'].unique().shape"
   ]
  },
  {
   "cell_type": "code",
   "execution_count": 31,
   "id": "c97ba7a2-50f6-4558-b826-89263b912262",
   "metadata": {},
   "outputs": [],
   "source": [
    "x = ratings['user_id'].value_counts() > 100"
   ]
  },
  {
   "cell_type": "code",
   "execution_count": 32,
   "id": "6f84204a-92e1-4e05-bfb5-67c46d388b1b",
   "metadata": {},
   "outputs": [
    {
     "data": {
      "text/plain": [
       "(1825,)"
      ]
     },
     "execution_count": 32,
     "metadata": {},
     "output_type": "execute_result"
    }
   ],
   "source": [
    "x[x].shape"
   ]
  },
  {
   "cell_type": "code",
   "execution_count": 33,
   "id": "41db8f16-17a6-47e4-98dd-e2e6f66dea45",
   "metadata": {},
   "outputs": [],
   "source": [
    "y = x[x].index"
   ]
  },
  {
   "cell_type": "code",
   "execution_count": 34,
   "id": "a07b012d-17d4-4eb4-944c-ec4a9d3ca949",
   "metadata": {},
   "outputs": [
    {
     "data": {
      "text/plain": [
       "Index([ 11676, 198711, 153662,  98391,  35859, 212898, 278418,  76352, 110973,\n",
       "       235105,\n",
       "       ...\n",
       "       238186,  99441, 187410, 262070,  70183,  40553,  39345, 266283, 189666,\n",
       "       140879],\n",
       "      dtype='int64', name='user_id', length=1825)"
      ]
     },
     "execution_count": 34,
     "metadata": {},
     "output_type": "execute_result"
    }
   ],
   "source": [
    "y"
   ]
  },
  {
   "cell_type": "code",
   "execution_count": 35,
   "id": "e48b9741-7e2a-4d3a-ace1-4fab72a9928b",
   "metadata": {},
   "outputs": [],
   "source": [
    "ratings = ratings[ratings['user_id'].isin(y)]"
   ]
  },
  {
   "cell_type": "code",
   "execution_count": 36,
   "id": "c871b256-5ccc-40bb-b00b-46eaa8f8fe52",
   "metadata": {},
   "outputs": [
    {
     "data": {
      "text/html": [
       "<div>\n",
       "<style scoped>\n",
       "    .dataframe tbody tr th:only-of-type {\n",
       "        vertical-align: middle;\n",
       "    }\n",
       "\n",
       "    .dataframe tbody tr th {\n",
       "        vertical-align: top;\n",
       "    }\n",
       "\n",
       "    .dataframe thead th {\n",
       "        text-align: right;\n",
       "    }\n",
       "</style>\n",
       "<table border=\"1\" class=\"dataframe\">\n",
       "  <thead>\n",
       "    <tr style=\"text-align: right;\">\n",
       "      <th></th>\n",
       "      <th>user_id</th>\n",
       "      <th>ISBN</th>\n",
       "      <th>rating</th>\n",
       "    </tr>\n",
       "  </thead>\n",
       "  <tbody>\n",
       "    <tr>\n",
       "      <th>412</th>\n",
       "      <td>276925</td>\n",
       "      <td>0006511929</td>\n",
       "      <td>0</td>\n",
       "    </tr>\n",
       "    <tr>\n",
       "      <th>413</th>\n",
       "      <td>276925</td>\n",
       "      <td>002542730X</td>\n",
       "      <td>10</td>\n",
       "    </tr>\n",
       "    <tr>\n",
       "      <th>414</th>\n",
       "      <td>276925</td>\n",
       "      <td>0060520507</td>\n",
       "      <td>0</td>\n",
       "    </tr>\n",
       "  </tbody>\n",
       "</table>\n",
       "</div>"
      ],
      "text/plain": [
       "     user_id        ISBN  rating\n",
       "412   276925  0006511929       0\n",
       "413   276925  002542730X      10\n",
       "414   276925  0060520507       0"
      ]
     },
     "execution_count": 36,
     "metadata": {},
     "output_type": "execute_result"
    }
   ],
   "source": [
    "ratings.head(3)"
   ]
  },
  {
   "cell_type": "code",
   "execution_count": 37,
   "id": "8a531efa-9805-4345-b72e-0a678ace9fd2",
   "metadata": {},
   "outputs": [
    {
     "data": {
      "text/plain": [
       "(656605, 3)"
      ]
     },
     "execution_count": 37,
     "metadata": {},
     "output_type": "execute_result"
    }
   ],
   "source": [
    "ratings.shape"
   ]
  },
  {
   "cell_type": "code",
   "execution_count": 38,
   "id": "9b78909b-6106-4cd5-bd08-1300e968421f",
   "metadata": {},
   "outputs": [],
   "source": [
    "ratings_with_books = ratings.merge(books, on = \"ISBN\")"
   ]
  },
  {
   "cell_type": "code",
   "execution_count": 39,
   "id": "8c86f4e9-a8cc-4560-91d8-973bf0833a13",
   "metadata": {},
   "outputs": [
    {
     "data": {
      "text/html": [
       "<div>\n",
       "<style scoped>\n",
       "    .dataframe tbody tr th:only-of-type {\n",
       "        vertical-align: middle;\n",
       "    }\n",
       "\n",
       "    .dataframe tbody tr th {\n",
       "        vertical-align: top;\n",
       "    }\n",
       "\n",
       "    .dataframe thead th {\n",
       "        text-align: right;\n",
       "    }\n",
       "</style>\n",
       "<table border=\"1\" class=\"dataframe\">\n",
       "  <thead>\n",
       "    <tr style=\"text-align: right;\">\n",
       "      <th></th>\n",
       "      <th>user_id</th>\n",
       "      <th>ISBN</th>\n",
       "      <th>rating</th>\n",
       "      <th>title</th>\n",
       "      <th>author</th>\n",
       "      <th>year</th>\n",
       "      <th>publisher</th>\n",
       "      <th>img_url</th>\n",
       "    </tr>\n",
       "  </thead>\n",
       "  <tbody>\n",
       "    <tr>\n",
       "      <th>0</th>\n",
       "      <td>276925</td>\n",
       "      <td>002542730X</td>\n",
       "      <td>10</td>\n",
       "      <td>Politically Correct Bedtime Stories: Modern Ta...</td>\n",
       "      <td>James Finn Garner</td>\n",
       "      <td>1994</td>\n",
       "      <td>John Wiley &amp;amp; Sons Inc</td>\n",
       "      <td>http://images.amazon.com/images/P/002542730X.0...</td>\n",
       "    </tr>\n",
       "    <tr>\n",
       "      <th>1</th>\n",
       "      <td>277427</td>\n",
       "      <td>002542730X</td>\n",
       "      <td>10</td>\n",
       "      <td>Politically Correct Bedtime Stories: Modern Ta...</td>\n",
       "      <td>James Finn Garner</td>\n",
       "      <td>1994</td>\n",
       "      <td>John Wiley &amp;amp; Sons Inc</td>\n",
       "      <td>http://images.amazon.com/images/P/002542730X.0...</td>\n",
       "    </tr>\n",
       "    <tr>\n",
       "      <th>2</th>\n",
       "      <td>3363</td>\n",
       "      <td>002542730X</td>\n",
       "      <td>0</td>\n",
       "      <td>Politically Correct Bedtime Stories: Modern Ta...</td>\n",
       "      <td>James Finn Garner</td>\n",
       "      <td>1994</td>\n",
       "      <td>John Wiley &amp;amp; Sons Inc</td>\n",
       "      <td>http://images.amazon.com/images/P/002542730X.0...</td>\n",
       "    </tr>\n",
       "    <tr>\n",
       "      <th>3</th>\n",
       "      <td>10030</td>\n",
       "      <td>002542730X</td>\n",
       "      <td>7</td>\n",
       "      <td>Politically Correct Bedtime Stories: Modern Ta...</td>\n",
       "      <td>James Finn Garner</td>\n",
       "      <td>1994</td>\n",
       "      <td>John Wiley &amp;amp; Sons Inc</td>\n",
       "      <td>http://images.amazon.com/images/P/002542730X.0...</td>\n",
       "    </tr>\n",
       "    <tr>\n",
       "      <th>4</th>\n",
       "      <td>11676</td>\n",
       "      <td>002542730X</td>\n",
       "      <td>6</td>\n",
       "      <td>Politically Correct Bedtime Stories: Modern Ta...</td>\n",
       "      <td>James Finn Garner</td>\n",
       "      <td>1994</td>\n",
       "      <td>John Wiley &amp;amp; Sons Inc</td>\n",
       "      <td>http://images.amazon.com/images/P/002542730X.0...</td>\n",
       "    </tr>\n",
       "  </tbody>\n",
       "</table>\n",
       "</div>"
      ],
      "text/plain": [
       "   user_id        ISBN  rating  \\\n",
       "0   276925  002542730X      10   \n",
       "1   277427  002542730X      10   \n",
       "2     3363  002542730X       0   \n",
       "3    10030  002542730X       7   \n",
       "4    11676  002542730X       6   \n",
       "\n",
       "                                               title             author  year  \\\n",
       "0  Politically Correct Bedtime Stories: Modern Ta...  James Finn Garner  1994   \n",
       "1  Politically Correct Bedtime Stories: Modern Ta...  James Finn Garner  1994   \n",
       "2  Politically Correct Bedtime Stories: Modern Ta...  James Finn Garner  1994   \n",
       "3  Politically Correct Bedtime Stories: Modern Ta...  James Finn Garner  1994   \n",
       "4  Politically Correct Bedtime Stories: Modern Ta...  James Finn Garner  1994   \n",
       "\n",
       "                   publisher  \\\n",
       "0  John Wiley &amp; Sons Inc   \n",
       "1  John Wiley &amp; Sons Inc   \n",
       "2  John Wiley &amp; Sons Inc   \n",
       "3  John Wiley &amp; Sons Inc   \n",
       "4  John Wiley &amp; Sons Inc   \n",
       "\n",
       "                                             img_url  \n",
       "0  http://images.amazon.com/images/P/002542730X.0...  \n",
       "1  http://images.amazon.com/images/P/002542730X.0...  \n",
       "2  http://images.amazon.com/images/P/002542730X.0...  \n",
       "3  http://images.amazon.com/images/P/002542730X.0...  \n",
       "4  http://images.amazon.com/images/P/002542730X.0...  "
      ]
     },
     "execution_count": 39,
     "metadata": {},
     "output_type": "execute_result"
    }
   ],
   "source": [
    "ratings_with_books.head()"
   ]
  },
  {
   "cell_type": "code",
   "execution_count": 40,
   "id": "5532bc43-b5cd-49af-90ef-09a4028fed2c",
   "metadata": {},
   "outputs": [
    {
     "data": {
      "text/plain": [
       "(604854, 8)"
      ]
     },
     "execution_count": 40,
     "metadata": {},
     "output_type": "execute_result"
    }
   ],
   "source": [
    "ratings_with_books.shape"
   ]
  },
  {
   "cell_type": "code",
   "execution_count": 41,
   "id": "c8834985-5c28-4be8-ad40-3773013c20dc",
   "metadata": {},
   "outputs": [],
   "source": [
    "num_rating = ratings_with_books.groupby('title')['rating'].count()"
   ]
  },
  {
   "cell_type": "code",
   "execution_count": 42,
   "id": "2a8e55a5-af48-4c34-8502-9374e35d0d13",
   "metadata": {},
   "outputs": [
    {
     "data": {
      "text/plain": [
       "(182184,)"
      ]
     },
     "execution_count": 42,
     "metadata": {},
     "output_type": "execute_result"
    }
   ],
   "source": [
    "num_rating.shape"
   ]
  },
  {
   "cell_type": "code",
   "execution_count": 43,
   "id": "fb91b306-f840-4903-882a-d3265b87670f",
   "metadata": {},
   "outputs": [],
   "source": [
    "num_rating = num_rating.to_frame()"
   ]
  },
  {
   "cell_type": "code",
   "execution_count": 44,
   "id": "bf661d32-9c10-4c1b-a1a0-45ad853e5cbd",
   "metadata": {},
   "outputs": [
    {
     "data": {
      "text/plain": [
       "pandas.core.frame.DataFrame"
      ]
     },
     "execution_count": 44,
     "metadata": {},
     "output_type": "execute_result"
    }
   ],
   "source": [
    "type(num_rating)"
   ]
  },
  {
   "cell_type": "code",
   "execution_count": 45,
   "id": "ae711165-307f-4871-83af-610cdb1e36e8",
   "metadata": {},
   "outputs": [],
   "source": [
    "num_rating.rename(columns={\n",
    "    \"rating\": \"number_of_rating\"\n",
    "}, inplace=True)"
   ]
  },
  {
   "cell_type": "code",
   "execution_count": 46,
   "id": "656181bf-0215-41e3-b71b-4b54766d881a",
   "metadata": {},
   "outputs": [
    {
     "data": {
      "text/html": [
       "<div>\n",
       "<style scoped>\n",
       "    .dataframe tbody tr th:only-of-type {\n",
       "        vertical-align: middle;\n",
       "    }\n",
       "\n",
       "    .dataframe tbody tr th {\n",
       "        vertical-align: top;\n",
       "    }\n",
       "\n",
       "    .dataframe thead th {\n",
       "        text-align: right;\n",
       "    }\n",
       "</style>\n",
       "<table border=\"1\" class=\"dataframe\">\n",
       "  <thead>\n",
       "    <tr style=\"text-align: right;\">\n",
       "      <th></th>\n",
       "      <th>number_of_rating</th>\n",
       "    </tr>\n",
       "    <tr>\n",
       "      <th>title</th>\n",
       "      <th></th>\n",
       "    </tr>\n",
       "  </thead>\n",
       "  <tbody>\n",
       "    <tr>\n",
       "      <th>A Light in the Storm: The Civil War Diary of Amelia Martin, Fenwick Island, Delaware, 1861 (Dear America)</th>\n",
       "      <td>3</td>\n",
       "    </tr>\n",
       "    <tr>\n",
       "      <th>Always Have Popsicles</th>\n",
       "      <td>1</td>\n",
       "    </tr>\n",
       "    <tr>\n",
       "      <th>Apple Magic (The Collector's series)</th>\n",
       "      <td>1</td>\n",
       "    </tr>\n",
       "    <tr>\n",
       "      <th>Beyond IBM: Leadership Marketing and Finance for the 1990s</th>\n",
       "      <td>1</td>\n",
       "    </tr>\n",
       "    <tr>\n",
       "      <th>Clifford Visita El Hospital (Clifford El Gran Perro Colorado)</th>\n",
       "      <td>1</td>\n",
       "    </tr>\n",
       "  </tbody>\n",
       "</table>\n",
       "</div>"
      ],
      "text/plain": [
       "                                                    number_of_rating\n",
       "title                                                               \n",
       " A Light in the Storm: The Civil War Diary of A...                 3\n",
       " Always Have Popsicles                                             1\n",
       " Apple Magic (The Collector's series)                              1\n",
       " Beyond IBM: Leadership Marketing and Finance f...                 1\n",
       " Clifford Visita El Hospital (Clifford El Gran ...                 1"
      ]
     },
     "execution_count": 46,
     "metadata": {},
     "output_type": "execute_result"
    }
   ],
   "source": [
    "num_rating.head()"
   ]
  },
  {
   "cell_type": "code",
   "execution_count": 47,
   "id": "1fdf0c1c-f941-445c-a238-e550dcc2abf4",
   "metadata": {},
   "outputs": [],
   "source": [
    "final_rating = ratings_with_books.merge(num_rating, on=\"title\")"
   ]
  },
  {
   "cell_type": "code",
   "execution_count": 48,
   "id": "4f43c5aa-773f-41a6-b21d-8665368d22e1",
   "metadata": {},
   "outputs": [
    {
     "data": {
      "text/html": [
       "<div>\n",
       "<style scoped>\n",
       "    .dataframe tbody tr th:only-of-type {\n",
       "        vertical-align: middle;\n",
       "    }\n",
       "\n",
       "    .dataframe tbody tr th {\n",
       "        vertical-align: top;\n",
       "    }\n",
       "\n",
       "    .dataframe thead th {\n",
       "        text-align: right;\n",
       "    }\n",
       "</style>\n",
       "<table border=\"1\" class=\"dataframe\">\n",
       "  <thead>\n",
       "    <tr style=\"text-align: right;\">\n",
       "      <th></th>\n",
       "      <th>user_id</th>\n",
       "      <th>ISBN</th>\n",
       "      <th>rating</th>\n",
       "      <th>title</th>\n",
       "      <th>author</th>\n",
       "      <th>year</th>\n",
       "      <th>publisher</th>\n",
       "      <th>img_url</th>\n",
       "      <th>number_of_rating</th>\n",
       "    </tr>\n",
       "  </thead>\n",
       "  <tbody>\n",
       "    <tr>\n",
       "      <th>0</th>\n",
       "      <td>276925</td>\n",
       "      <td>002542730X</td>\n",
       "      <td>10</td>\n",
       "      <td>Politically Correct Bedtime Stories: Modern Ta...</td>\n",
       "      <td>James Finn Garner</td>\n",
       "      <td>1994</td>\n",
       "      <td>John Wiley &amp;amp; Sons Inc</td>\n",
       "      <td>http://images.amazon.com/images/P/002542730X.0...</td>\n",
       "      <td>105</td>\n",
       "    </tr>\n",
       "    <tr>\n",
       "      <th>1</th>\n",
       "      <td>277427</td>\n",
       "      <td>002542730X</td>\n",
       "      <td>10</td>\n",
       "      <td>Politically Correct Bedtime Stories: Modern Ta...</td>\n",
       "      <td>James Finn Garner</td>\n",
       "      <td>1994</td>\n",
       "      <td>John Wiley &amp;amp; Sons Inc</td>\n",
       "      <td>http://images.amazon.com/images/P/002542730X.0...</td>\n",
       "      <td>105</td>\n",
       "    </tr>\n",
       "    <tr>\n",
       "      <th>2</th>\n",
       "      <td>3363</td>\n",
       "      <td>002542730X</td>\n",
       "      <td>0</td>\n",
       "      <td>Politically Correct Bedtime Stories: Modern Ta...</td>\n",
       "      <td>James Finn Garner</td>\n",
       "      <td>1994</td>\n",
       "      <td>John Wiley &amp;amp; Sons Inc</td>\n",
       "      <td>http://images.amazon.com/images/P/002542730X.0...</td>\n",
       "      <td>105</td>\n",
       "    </tr>\n",
       "    <tr>\n",
       "      <th>3</th>\n",
       "      <td>10030</td>\n",
       "      <td>002542730X</td>\n",
       "      <td>7</td>\n",
       "      <td>Politically Correct Bedtime Stories: Modern Ta...</td>\n",
       "      <td>James Finn Garner</td>\n",
       "      <td>1994</td>\n",
       "      <td>John Wiley &amp;amp; Sons Inc</td>\n",
       "      <td>http://images.amazon.com/images/P/002542730X.0...</td>\n",
       "      <td>105</td>\n",
       "    </tr>\n",
       "    <tr>\n",
       "      <th>4</th>\n",
       "      <td>11676</td>\n",
       "      <td>002542730X</td>\n",
       "      <td>6</td>\n",
       "      <td>Politically Correct Bedtime Stories: Modern Ta...</td>\n",
       "      <td>James Finn Garner</td>\n",
       "      <td>1994</td>\n",
       "      <td>John Wiley &amp;amp; Sons Inc</td>\n",
       "      <td>http://images.amazon.com/images/P/002542730X.0...</td>\n",
       "      <td>105</td>\n",
       "    </tr>\n",
       "  </tbody>\n",
       "</table>\n",
       "</div>"
      ],
      "text/plain": [
       "   user_id        ISBN  rating  \\\n",
       "0   276925  002542730X      10   \n",
       "1   277427  002542730X      10   \n",
       "2     3363  002542730X       0   \n",
       "3    10030  002542730X       7   \n",
       "4    11676  002542730X       6   \n",
       "\n",
       "                                               title             author  year  \\\n",
       "0  Politically Correct Bedtime Stories: Modern Ta...  James Finn Garner  1994   \n",
       "1  Politically Correct Bedtime Stories: Modern Ta...  James Finn Garner  1994   \n",
       "2  Politically Correct Bedtime Stories: Modern Ta...  James Finn Garner  1994   \n",
       "3  Politically Correct Bedtime Stories: Modern Ta...  James Finn Garner  1994   \n",
       "4  Politically Correct Bedtime Stories: Modern Ta...  James Finn Garner  1994   \n",
       "\n",
       "                   publisher  \\\n",
       "0  John Wiley &amp; Sons Inc   \n",
       "1  John Wiley &amp; Sons Inc   \n",
       "2  John Wiley &amp; Sons Inc   \n",
       "3  John Wiley &amp; Sons Inc   \n",
       "4  John Wiley &amp; Sons Inc   \n",
       "\n",
       "                                             img_url  number_of_rating  \n",
       "0  http://images.amazon.com/images/P/002542730X.0...               105  \n",
       "1  http://images.amazon.com/images/P/002542730X.0...               105  \n",
       "2  http://images.amazon.com/images/P/002542730X.0...               105  \n",
       "3  http://images.amazon.com/images/P/002542730X.0...               105  \n",
       "4  http://images.amazon.com/images/P/002542730X.0...               105  "
      ]
     },
     "execution_count": 48,
     "metadata": {},
     "output_type": "execute_result"
    }
   ],
   "source": [
    "final_rating.head()"
   ]
  },
  {
   "cell_type": "code",
   "execution_count": 49,
   "id": "4a7a94b2-e417-4b10-b201-9fc2820caedc",
   "metadata": {},
   "outputs": [
    {
     "data": {
      "text/plain": [
       "(604854, 9)"
      ]
     },
     "execution_count": 49,
     "metadata": {},
     "output_type": "execute_result"
    }
   ],
   "source": [
    "final_rating.shape"
   ]
  },
  {
   "cell_type": "code",
   "execution_count": 52,
   "id": "39cea978-af83-4798-b3a6-b3ada62f0786",
   "metadata": {},
   "outputs": [],
   "source": [
    "final_rating = final_rating[final_rating['number_of_rating']>=50]"
   ]
  },
  {
   "cell_type": "code",
   "execution_count": 53,
   "id": "3e3387d2-1cbf-4b79-8d1d-1e8ccf637630",
   "metadata": {},
   "outputs": [
    {
     "data": {
      "text/plain": [
       "(48237, 9)"
      ]
     },
     "execution_count": 53,
     "metadata": {},
     "output_type": "execute_result"
    }
   ],
   "source": [
    "final_rating.shape"
   ]
  },
  {
   "cell_type": "code",
   "execution_count": 54,
   "id": "3c93eee3-d446-43ce-9e6f-6c14b92ccd33",
   "metadata": {},
   "outputs": [
    {
     "data": {
      "text/html": [
       "<div>\n",
       "<style scoped>\n",
       "    .dataframe tbody tr th:only-of-type {\n",
       "        vertical-align: middle;\n",
       "    }\n",
       "\n",
       "    .dataframe tbody tr th {\n",
       "        vertical-align: top;\n",
       "    }\n",
       "\n",
       "    .dataframe thead th {\n",
       "        text-align: right;\n",
       "    }\n",
       "</style>\n",
       "<table border=\"1\" class=\"dataframe\">\n",
       "  <thead>\n",
       "    <tr style=\"text-align: right;\">\n",
       "      <th></th>\n",
       "      <th>user_id</th>\n",
       "      <th>ISBN</th>\n",
       "      <th>rating</th>\n",
       "      <th>title</th>\n",
       "      <th>author</th>\n",
       "      <th>year</th>\n",
       "      <th>publisher</th>\n",
       "      <th>img_url</th>\n",
       "      <th>number_of_rating</th>\n",
       "    </tr>\n",
       "  </thead>\n",
       "  <tbody>\n",
       "    <tr>\n",
       "      <th>0</th>\n",
       "      <td>276925</td>\n",
       "      <td>002542730X</td>\n",
       "      <td>10</td>\n",
       "      <td>Politically Correct Bedtime Stories: Modern Ta...</td>\n",
       "      <td>James Finn Garner</td>\n",
       "      <td>1994</td>\n",
       "      <td>John Wiley &amp;amp; Sons Inc</td>\n",
       "      <td>http://images.amazon.com/images/P/002542730X.0...</td>\n",
       "      <td>105</td>\n",
       "    </tr>\n",
       "    <tr>\n",
       "      <th>1</th>\n",
       "      <td>277427</td>\n",
       "      <td>002542730X</td>\n",
       "      <td>10</td>\n",
       "      <td>Politically Correct Bedtime Stories: Modern Ta...</td>\n",
       "      <td>James Finn Garner</td>\n",
       "      <td>1994</td>\n",
       "      <td>John Wiley &amp;amp; Sons Inc</td>\n",
       "      <td>http://images.amazon.com/images/P/002542730X.0...</td>\n",
       "      <td>105</td>\n",
       "    </tr>\n",
       "    <tr>\n",
       "      <th>2</th>\n",
       "      <td>3363</td>\n",
       "      <td>002542730X</td>\n",
       "      <td>0</td>\n",
       "      <td>Politically Correct Bedtime Stories: Modern Ta...</td>\n",
       "      <td>James Finn Garner</td>\n",
       "      <td>1994</td>\n",
       "      <td>John Wiley &amp;amp; Sons Inc</td>\n",
       "      <td>http://images.amazon.com/images/P/002542730X.0...</td>\n",
       "      <td>105</td>\n",
       "    </tr>\n",
       "    <tr>\n",
       "      <th>3</th>\n",
       "      <td>10030</td>\n",
       "      <td>002542730X</td>\n",
       "      <td>7</td>\n",
       "      <td>Politically Correct Bedtime Stories: Modern Ta...</td>\n",
       "      <td>James Finn Garner</td>\n",
       "      <td>1994</td>\n",
       "      <td>John Wiley &amp;amp; Sons Inc</td>\n",
       "      <td>http://images.amazon.com/images/P/002542730X.0...</td>\n",
       "      <td>105</td>\n",
       "    </tr>\n",
       "    <tr>\n",
       "      <th>4</th>\n",
       "      <td>11676</td>\n",
       "      <td>002542730X</td>\n",
       "      <td>6</td>\n",
       "      <td>Politically Correct Bedtime Stories: Modern Ta...</td>\n",
       "      <td>James Finn Garner</td>\n",
       "      <td>1994</td>\n",
       "      <td>John Wiley &amp;amp; Sons Inc</td>\n",
       "      <td>http://images.amazon.com/images/P/002542730X.0...</td>\n",
       "      <td>105</td>\n",
       "    </tr>\n",
       "  </tbody>\n",
       "</table>\n",
       "</div>"
      ],
      "text/plain": [
       "   user_id        ISBN  rating  \\\n",
       "0   276925  002542730X      10   \n",
       "1   277427  002542730X      10   \n",
       "2     3363  002542730X       0   \n",
       "3    10030  002542730X       7   \n",
       "4    11676  002542730X       6   \n",
       "\n",
       "                                               title             author  year  \\\n",
       "0  Politically Correct Bedtime Stories: Modern Ta...  James Finn Garner  1994   \n",
       "1  Politically Correct Bedtime Stories: Modern Ta...  James Finn Garner  1994   \n",
       "2  Politically Correct Bedtime Stories: Modern Ta...  James Finn Garner  1994   \n",
       "3  Politically Correct Bedtime Stories: Modern Ta...  James Finn Garner  1994   \n",
       "4  Politically Correct Bedtime Stories: Modern Ta...  James Finn Garner  1994   \n",
       "\n",
       "                   publisher  \\\n",
       "0  John Wiley &amp; Sons Inc   \n",
       "1  John Wiley &amp; Sons Inc   \n",
       "2  John Wiley &amp; Sons Inc   \n",
       "3  John Wiley &amp; Sons Inc   \n",
       "4  John Wiley &amp; Sons Inc   \n",
       "\n",
       "                                             img_url  number_of_rating  \n",
       "0  http://images.amazon.com/images/P/002542730X.0...               105  \n",
       "1  http://images.amazon.com/images/P/002542730X.0...               105  \n",
       "2  http://images.amazon.com/images/P/002542730X.0...               105  \n",
       "3  http://images.amazon.com/images/P/002542730X.0...               105  \n",
       "4  http://images.amazon.com/images/P/002542730X.0...               105  "
      ]
     },
     "execution_count": 54,
     "metadata": {},
     "output_type": "execute_result"
    }
   ],
   "source": [
    "final_rating.head()"
   ]
  },
  {
   "cell_type": "code",
   "execution_count": 65,
   "id": "5b718500-4a44-4561-b82a-5ae40c96e1e8",
   "metadata": {},
   "outputs": [],
   "source": [
    "df = final_rating[[\"user_id\", \"ISBN\", \"rating\"]]"
   ]
  },
  {
   "cell_type": "code",
   "execution_count": 84,
   "id": "320ed190-12ea-4277-89e5-cde2c6306b62",
   "metadata": {},
   "outputs": [],
   "source": [
    "from pyspark.sql import SparkSession\n",
    "from pyspark.ml.feature import StringIndexer"
   ]
  },
  {
   "cell_type": "code",
   "execution_count": 67,
   "id": "8f35f1c4-1e9d-45b2-8af3-0096e09e3121",
   "metadata": {},
   "outputs": [],
   "source": [
    "spark = SparkSession.builder\\\n",
    "                    .appName(\"Recommend\")\\\n",
    "                    .config(\"spark.driver.memory\", \"10g\") \\\n",
    "                    .config(\"spark.executor.cores\", \"4\")  \\\n",
    "                    .getOrCreate()"
   ]
  },
  {
   "cell_type": "code",
   "execution_count": 68,
   "id": "6ef83513-3c2f-4dd2-b0f8-088cbb8079a7",
   "metadata": {},
   "outputs": [],
   "source": [
    "df = spark.createDataFrame(df)"
   ]
  },
  {
   "cell_type": "code",
   "execution_count": 86,
   "id": "cf8335fb-c287-4e82-9e11-67a650a2f68d",
   "metadata": {},
   "outputs": [],
   "source": [
    "indexer = StringIndexer(inputCol=\"ISBN\", outputCol=\"item_id\")\n",
    "indexed_df = indexer.fit(df).transform(df)"
   ]
  },
  {
   "cell_type": "code",
   "execution_count": 91,
   "id": "641d3e13-bc52-42b7-860b-fcc31ff90e2e",
   "metadata": {},
   "outputs": [
    {
     "name": "stdout",
     "output_type": "stream",
     "text": [
      "+-------+----------+------+-------+\n",
      "|user_id|      ISBN|rating|item_id|\n",
      "+-------+----------+------+-------+\n",
      "| 276925|002542730X|    10|  180.0|\n",
      "| 277427|002542730X|    10|  180.0|\n",
      "|   3363|002542730X|     0|  180.0|\n",
      "|  10030|002542730X|     7|  180.0|\n",
      "+-------+----------+------+-------+\n",
      "only showing top 4 rows\n",
      "\n"
     ]
    }
   ],
   "source": [
    "indexed_df.show(4)"
   ]
  },
  {
   "cell_type": "code",
   "execution_count": 92,
   "id": "2bb28399-53d4-4d25-b495-6e12b2027f0b",
   "metadata": {},
   "outputs": [
    {
     "name": "stdout",
     "output_type": "stream",
     "text": [
      "97962 rows and 4 columns\n"
     ]
    }
   ],
   "source": [
    "print(\"{} rows and {} columns\".format(indexed_df.count(), len(indexed_df.columns)))"
   ]
  },
  {
   "cell_type": "code",
   "execution_count": 93,
   "id": "76ca883e-dca8-4e0c-9eec-40159c32f462",
   "metadata": {},
   "outputs": [
    {
     "data": {
      "text/plain": [
       "3165"
      ]
     },
     "execution_count": 93,
     "metadata": {},
     "output_type": "execute_result"
    }
   ],
   "source": [
    "indexed_df.select(\"ISBN\").distinct().count()"
   ]
  },
  {
   "cell_type": "code",
   "execution_count": 101,
   "id": "c8808052-4393-476e-897d-3e3900f93e7d",
   "metadata": {},
   "outputs": [
    {
     "data": {
      "text/plain": [
       "3165"
      ]
     },
     "execution_count": 101,
     "metadata": {},
     "output_type": "execute_result"
    }
   ],
   "source": [
    "indexed_df.select(\"item_id\").distinct().count()"
   ]
  },
  {
   "cell_type": "code",
   "execution_count": 110,
   "id": "2b3bd1f3-609e-4f76-9b67-07a3ac552bc3",
   "metadata": {},
   "outputs": [
    {
     "data": {
      "text/plain": [
       "3164.0"
      ]
     },
     "execution_count": 110,
     "metadata": {},
     "output_type": "execute_result"
    }
   ],
   "source": [
    "from pyspark.sql.functions import max, min\n",
    "indexed_df.agg(max(\"item_id\")).collect()[0][0]"
   ]
  },
  {
   "cell_type": "code",
   "execution_count": 111,
   "id": "ba6557dd-58d4-41e3-8d78-e08fd5ebef2e",
   "metadata": {},
   "outputs": [
    {
     "data": {
      "text/plain": [
       "0.0"
      ]
     },
     "execution_count": 111,
     "metadata": {},
     "output_type": "execute_result"
    }
   ],
   "source": [
    "indexed_df.agg(min(\"item_id\")).collect()[0][0]\n"
   ]
  },
  {
   "cell_type": "code",
   "execution_count": 211,
   "id": "4ec4f4c1-172f-45cb-9ac8-622516b6d2e8",
   "metadata": {},
   "outputs": [],
   "source": [
    "from pyspark.ml.evaluation import RegressionEvaluator\n",
    "from pyspark.ml.recommendation import ALS\n",
    "from pyspark.ml.tuning import TrainValidationSplit, ParamGridBuilder, CrossValidator"
   ]
  },
  {
   "cell_type": "code",
   "execution_count": 212,
   "id": "58038181-c97c-4832-8c6f-8baa547ca472",
   "metadata": {},
   "outputs": [
    {
     "name": "stdout",
     "output_type": "stream",
     "text": [
      "+-------+----------+------+-------+\n",
      "|user_id|      ISBN|rating|item_id|\n",
      "+-------+----------+------+-------+\n",
      "|    254|0060930535|     0|   39.0|\n",
      "|    254|014100018X|     0|  312.0|\n",
      "|    254|0141301066|     0| 1574.0|\n",
      "|    254|0142001740|     9|   13.0|\n",
      "+-------+----------+------+-------+\n",
      "only showing top 4 rows\n",
      "\n",
      "<class 'pyspark.sql.dataframe.DataFrame'>\n"
     ]
    }
   ],
   "source": [
    "(training, test) = indexed_df.randomSplit([0.8, 0.2])\n",
    "training.show(4)\n",
    "print(type(training))"
   ]
  },
  {
   "cell_type": "code",
   "execution_count": 213,
   "id": "57b97a07-e0a1-41be-9d1d-307a249b3992",
   "metadata": {},
   "outputs": [],
   "source": [
    "# Create ALS model\n",
    "model = ALS(userCol=\"user_id\", itemCol=\"item_id\", ratingCol=\"rating\",\n",
    "            coldStartStrategy=\"drop\", nonnegative=True)"
   ]
  },
  {
   "cell_type": "code",
   "execution_count": 214,
   "id": "c0d936bf-5f2d-41c2-9c69-b693dcd217d2",
   "metadata": {},
   "outputs": [],
   "source": [
    "# tuning model using ParamGridBuilder\n",
    "param_grid = ParamGridBuilder()\\\n",
    "             .addGrid(model.rank, [10, 15, 20, 25])\\\n",
    "             .addGrid(model.maxIter, [10, 20, 30, 35])\\\n",
    "             .addGrid(model.regParam, [.01, .05, .15, 0.2])\\\n",
    "             .build()"
   ]
  },
  {
   "cell_type": "markdown",
   "id": "b21d4725-fada-4947-9c69-cdf3a79da448",
   "metadata": {},
   "source": [
    "# tuning model using ParamGridBuilder\n",
    "param_grid = ParamGridBuilder()\\\n",
    "             .addGrid(model.rank, [15])\\\n",
    "             .addGrid(model.maxIter, [20])\\\n",
    "             .addGrid(model.regParam, [.15])\\\n",
    "             .build()"
   ]
  },
  {
   "cell_type": "code",
   "execution_count": 215,
   "id": "275c3cf7-3cc1-40c0-ae3f-3a7892d90e6b",
   "metadata": {},
   "outputs": [],
   "source": [
    "# Defind evaluator as RMSE\n",
    "evaluator = RegressionEvaluator(metricName=\"rmse\", labelCol=\"rating\",\n",
    "                                predictionCol=\"prediction\")"
   ]
  },
  {
   "cell_type": "code",
   "execution_count": 216,
   "id": "42f22920-25a9-4c83-9a6c-901caa048482",
   "metadata": {},
   "outputs": [],
   "source": [
    "# Build cross validation using trainValidationSplit\n",
    "tvs = TrainValidationSplit(\n",
    "    estimator=model,\n",
    "    estimatorParamMaps=param_grid,\n",
    "    evaluator=evaluator\n",
    ")"
   ]
  },
  {
   "cell_type": "code",
   "execution_count": 217,
   "id": "45d61739-b279-4a3f-ae47-301495d9ed74",
   "metadata": {},
   "outputs": [],
   "source": [
    "cv = CrossValidator(estimator=model,\n",
    "                    estimatorParamMaps=param_grid,\n",
    "                    evaluator=evaluator,\n",
    "                    numFolds=10)"
   ]
  },
  {
   "cell_type": "code",
   "execution_count": 218,
   "id": "f19b4fc6-6254-40cd-b622-ee30eeefd155",
   "metadata": {},
   "outputs": [
    {
     "data": {
      "text/plain": [
       "DataFrame[user_id: bigint, ISBN: string, rating: bigint, item_id: double]"
      ]
     },
     "execution_count": 218,
     "metadata": {},
     "output_type": "execute_result"
    }
   ],
   "source": [
    "training.cache()"
   ]
  },
  {
   "cell_type": "code",
   "execution_count": 219,
   "id": "6265425b-408f-46e0-8185-4fd5091a2681",
   "metadata": {},
   "outputs": [],
   "source": [
    "sc = spark.sparkContext\n",
    "sc.setCheckpointDir('checkpoint')"
   ]
  },
  {
   "cell_type": "code",
   "execution_count": 220,
   "id": "40a0107e-7613-4382-b681-8789f013df70",
   "metadata": {},
   "outputs": [],
   "source": [
    "# Fit ALS model to training data\n",
    "#tvs.fit(training)\n",
    "#model = cv.fit(training)\n",
    "#als = ALS(maxIter=6, regParam=0.01, userCol=\"userId\", itemCol=\"movieId\", ratingCol=\"rating\")\n",
    "model = cv.fit(training)"
   ]
  },
  {
   "cell_type": "code",
   "execution_count": 221,
   "id": "c42e763a-cc72-4977-81a7-01b8634f36d9",
   "metadata": {},
   "outputs": [],
   "source": [
    "best_model = model.bestModel"
   ]
  },
  {
   "cell_type": "code",
   "execution_count": 222,
   "id": "5e268f60-10c4-4514-acc4-4e5673713515",
   "metadata": {},
   "outputs": [
    {
     "name": "stdout",
     "output_type": "stream",
     "text": [
      "25\n",
      "10\n",
      "0.2\n"
     ]
    }
   ],
   "source": [
    "print(best_model.rank)\n",
    "print(best_model._java_obj.parent().getMaxIter())\n",
    "print(best_model._java_obj.parent().getRegParam())"
   ]
  },
  {
   "cell_type": "code",
   "execution_count": 223,
   "id": "486a5974-7ea4-4d19-870f-d8badc514033",
   "metadata": {},
   "outputs": [],
   "source": [
    "predictions = best_model.transform(test)\n",
    "rmse = evaluator.evaluate(predictions)"
   ]
  },
  {
   "cell_type": "code",
   "execution_count": 224,
   "id": "ca3d04a8-f5a1-4d4c-b669-64d7bb933a9b",
   "metadata": {},
   "outputs": [
    {
     "name": "stdout",
     "output_type": "stream",
     "text": [
      "3.551086715558054\n"
     ]
    }
   ],
   "source": [
    "print(rmse)"
   ]
  },
  {
   "cell_type": "code",
   "execution_count": 225,
   "id": "4686d2aa-4cc1-488c-9dd8-5a48dcc37690",
   "metadata": {},
   "outputs": [
    {
     "data": {
      "text/plain": [
       "[Row(max(prediction)=14.602858543395996, min(prediction)=0.0)]"
      ]
     },
     "execution_count": 225,
     "metadata": {},
     "output_type": "execute_result"
    }
   ],
   "source": [
    "predictions.agg(max(\"prediction\"), min(\"prediction\")).collect()"
   ]
  },
  {
   "cell_type": "code",
   "execution_count": 226,
   "id": "bbf3050c-d227-4795-b362-dc9f08fc6110",
   "metadata": {},
   "outputs": [
    {
     "name": "stdout",
     "output_type": "stream",
     "text": [
      "+-------+----------+------+-------+----------+\n",
      "|user_id|      ISBN|rating|item_id|prediction|\n",
      "+-------+----------+------+-------+----------+\n",
      "|  17950|0385490992|     5|  833.0| 1.3453171|\n",
      "| 155495|0345339681|     0|  148.0|  5.561975|\n",
      "|  31556|0345339681|     9|  148.0| 1.9121153|\n",
      "|  73394|0345339681|    10|  148.0|0.13785422|\n",
      "| 225087|0385490992|    10|  833.0|  2.290121|\n",
      "| 175886|0440200989|     0|  496.0|0.09598537|\n",
      "|  85656|0553351672|     0| 1645.0|  2.842984|\n",
      "| 235282|0670894605|     8| 1238.0|  7.600384|\n",
      "| 170947|0385490992|     9|  833.0|  5.409141|\n",
      "| 135149|0345339681|     0|  148.0|  5.643169|\n",
      "| 211426|0345339681|     0|  148.0| 1.9174758|\n",
      "| 150124|0345339681|    10|  148.0| 1.7708933|\n",
      "| 148712|0399135782|    10| 1591.0| 4.7368135|\n",
      "| 220278|0440200989|     0|  496.0| 0.6258521|\n",
      "| 165308|0446527785|     7| 1088.0| 2.2782912|\n",
      "| 140358|0345339681|     5|  148.0|  6.348688|\n",
      "| 268300|0345339681|     8|  148.0| 4.7995687|\n",
      "|  39773|0345339681|     0|  148.0| 2.6003156|\n",
      "| 199416|0446527785|     5| 1088.0| 3.0405064|\n",
      "|  31826|0440200989|    10|  496.0| 6.1228714|\n",
      "+-------+----------+------+-------+----------+\n",
      "only showing top 20 rows\n",
      "\n"
     ]
    }
   ],
   "source": [
    "predictions.show()"
   ]
  },
  {
   "cell_type": "code",
   "execution_count": 227,
   "id": "63a85d0d-5e3d-47ee-b4dd-66ed9969403a",
   "metadata": {},
   "outputs": [
    {
     "data": {
      "text/plain": [
       "19294"
      ]
     },
     "execution_count": 227,
     "metadata": {},
     "output_type": "execute_result"
    }
   ],
   "source": [
    "predictions.count()"
   ]
  },
  {
   "cell_type": "code",
   "execution_count": 228,
   "id": "27b7c9c9-9511-41af-b28d-6bff6ba9870c",
   "metadata": {},
   "outputs": [
    {
     "name": "stdout",
     "output_type": "stream",
     "text": [
      "Training RMSE: 1.9639508572587174\n",
      "Test RMSE: 3.551086715558054\n"
     ]
    }
   ],
   "source": [
    "# Assuming 'model' is your ALS model and 'test_data' is your test dataset\n",
    "predictions_train = model.transform(training)\n",
    "rmse_train = evaluator.evaluate(predictions_train)\n",
    "\n",
    "predictions_test = model.transform(test)\n",
    "rmse_test = evaluator.evaluate(predictions_test)\n",
    "\n",
    "print(\"Training RMSE: {}\".format(rmse_train))\n",
    "print(\"Test RMSE: {}\".format(rmse_test))"
   ]
  },
  {
   "cell_type": "markdown",
   "id": "1a3f6357-d33d-42ec-8cb7-bf9233791827",
   "metadata": {},
   "source": [
    "## Model 1: 10 15 005 3\n",
    "Training RMSE: 2.26798979780443\r\n",
    "Test RMSE: 3.940697498031924\n",
    "## Model 2: 10 15 001 10\n",
    "Training RMSE: 2.26798979780443\n",
    "Test RMSE: 3.9406974980319247\n",
    "## Model 3: 15 20 015 10\n",
    "Training RMSE: 2.1018893810836388\r\n",
    "Test RMSE: 3.63226829024128\n",
    "## Model 4: 10 15 02 10\n",
    "Training RMSE: 2.3776462601204393\r\n",
    "Test RMSE: 3.554124401874003\n",
    "## Model 5: 25 15 015 10\n",
    "Training RMSE: 1.8249974478477968\r\n",
    "Test RMSE: 3.592044077281155\n",
    "## Model 6: 25 10 02 10\n",
    "Training RMSE: 1.9639508572587174\r\n",
    "Test RMSE: 3.5510867155580547717"
   ]
  },
  {
   "cell_type": "code",
   "execution_count": 229,
   "id": "afb254b0-14cf-4acf-b3c3-839593647436",
   "metadata": {},
   "outputs": [
    {
     "data": {
      "text/plain": [
       "ALSModel: uid=ALS_c8e08577a7fa, rank=25"
      ]
     },
     "execution_count": 229,
     "metadata": {},
     "output_type": "execute_result"
    }
   ],
   "source": [
    "best_model"
   ]
  },
  {
   "cell_type": "code",
   "execution_count": 230,
   "id": "e7ed5bde-b452-4073-b10e-ae34caba17b7",
   "metadata": {
    "scrolled": true
   },
   "outputs": [
    {
     "name": "stdout",
     "output_type": "stream",
     "text": [
      "Parameters: {Param(parent='ALS_c8e08577a7fa', name='rank', doc='rank of the factorization'): 10, Param(parent='ALS_c8e08577a7fa', name='maxIter', doc='max number of iterations (>= 0).'): 10, Param(parent='ALS_c8e08577a7fa', name='regParam', doc='regularization parameter (>= 0).'): 0.01}, RMSE: 4.566653498504278\n",
      "Parameters: {Param(parent='ALS_c8e08577a7fa', name='rank', doc='rank of the factorization'): 10, Param(parent='ALS_c8e08577a7fa', name='maxIter', doc='max number of iterations (>= 0).'): 10, Param(parent='ALS_c8e08577a7fa', name='regParam', doc='regularization parameter (>= 0).'): 0.05}, RMSE: 3.971501650057653\n",
      "Parameters: {Param(parent='ALS_c8e08577a7fa', name='rank', doc='rank of the factorization'): 10, Param(parent='ALS_c8e08577a7fa', name='maxIter', doc='max number of iterations (>= 0).'): 10, Param(parent='ALS_c8e08577a7fa', name='regParam', doc='regularization parameter (>= 0).'): 0.15}, RMSE: 3.642748984261889\n",
      "Parameters: {Param(parent='ALS_c8e08577a7fa', name='rank', doc='rank of the factorization'): 10, Param(parent='ALS_c8e08577a7fa', name='maxIter', doc='max number of iterations (>= 0).'): 10, Param(parent='ALS_c8e08577a7fa', name='regParam', doc='regularization parameter (>= 0).'): 0.2}, RMSE: 3.5719309197230222\n",
      "Parameters: {Param(parent='ALS_c8e08577a7fa', name='rank', doc='rank of the factorization'): 10, Param(parent='ALS_c8e08577a7fa', name='maxIter', doc='max number of iterations (>= 0).'): 20, Param(parent='ALS_c8e08577a7fa', name='regParam', doc='regularization parameter (>= 0).'): 0.01}, RMSE: 4.896959463603858\n",
      "Parameters: {Param(parent='ALS_c8e08577a7fa', name='rank', doc='rank of the factorization'): 10, Param(parent='ALS_c8e08577a7fa', name='maxIter', doc='max number of iterations (>= 0).'): 20, Param(parent='ALS_c8e08577a7fa', name='regParam', doc='regularization parameter (>= 0).'): 0.05}, RMSE: 4.04382460899317\n",
      "Parameters: {Param(parent='ALS_c8e08577a7fa', name='rank', doc='rank of the factorization'): 10, Param(parent='ALS_c8e08577a7fa', name='maxIter', doc='max number of iterations (>= 0).'): 20, Param(parent='ALS_c8e08577a7fa', name='regParam', doc='regularization parameter (>= 0).'): 0.15}, RMSE: 3.657700696304598\n",
      "Parameters: {Param(parent='ALS_c8e08577a7fa', name='rank', doc='rank of the factorization'): 10, Param(parent='ALS_c8e08577a7fa', name='maxIter', doc='max number of iterations (>= 0).'): 20, Param(parent='ALS_c8e08577a7fa', name='regParam', doc='regularization parameter (>= 0).'): 0.2}, RMSE: 3.57889223361319\n",
      "Parameters: {Param(parent='ALS_c8e08577a7fa', name='rank', doc='rank of the factorization'): 10, Param(parent='ALS_c8e08577a7fa', name='maxIter', doc='max number of iterations (>= 0).'): 30, Param(parent='ALS_c8e08577a7fa', name='regParam', doc='regularization parameter (>= 0).'): 0.01}, RMSE: 5.0833345100232705\n",
      "Parameters: {Param(parent='ALS_c8e08577a7fa', name='rank', doc='rank of the factorization'): 10, Param(parent='ALS_c8e08577a7fa', name='maxIter', doc='max number of iterations (>= 0).'): 30, Param(parent='ALS_c8e08577a7fa', name='regParam', doc='regularization parameter (>= 0).'): 0.05}, RMSE: 4.065331032890176\n",
      "Parameters: {Param(parent='ALS_c8e08577a7fa', name='rank', doc='rank of the factorization'): 10, Param(parent='ALS_c8e08577a7fa', name='maxIter', doc='max number of iterations (>= 0).'): 30, Param(parent='ALS_c8e08577a7fa', name='regParam', doc='regularization parameter (>= 0).'): 0.15}, RMSE: 3.6636172203645705\n",
      "Parameters: {Param(parent='ALS_c8e08577a7fa', name='rank', doc='rank of the factorization'): 10, Param(parent='ALS_c8e08577a7fa', name='maxIter', doc='max number of iterations (>= 0).'): 30, Param(parent='ALS_c8e08577a7fa', name='regParam', doc='regularization parameter (>= 0).'): 0.2}, RMSE: 3.585856183563114\n",
      "Parameters: {Param(parent='ALS_c8e08577a7fa', name='rank', doc='rank of the factorization'): 10, Param(parent='ALS_c8e08577a7fa', name='maxIter', doc='max number of iterations (>= 0).'): 35, Param(parent='ALS_c8e08577a7fa', name='regParam', doc='regularization parameter (>= 0).'): 0.01}, RMSE: 5.148850672075385\n",
      "Parameters: {Param(parent='ALS_c8e08577a7fa', name='rank', doc='rank of the factorization'): 10, Param(parent='ALS_c8e08577a7fa', name='maxIter', doc='max number of iterations (>= 0).'): 35, Param(parent='ALS_c8e08577a7fa', name='regParam', doc='regularization parameter (>= 0).'): 0.05}, RMSE: 4.06935932821837\n",
      "Parameters: {Param(parent='ALS_c8e08577a7fa', name='rank', doc='rank of the factorization'): 10, Param(parent='ALS_c8e08577a7fa', name='maxIter', doc='max number of iterations (>= 0).'): 35, Param(parent='ALS_c8e08577a7fa', name='regParam', doc='regularization parameter (>= 0).'): 0.15}, RMSE: 3.6652565419147907\n",
      "Parameters: {Param(parent='ALS_c8e08577a7fa', name='rank', doc='rank of the factorization'): 10, Param(parent='ALS_c8e08577a7fa', name='maxIter', doc='max number of iterations (>= 0).'): 35, Param(parent='ALS_c8e08577a7fa', name='regParam', doc='regularization parameter (>= 0).'): 0.2}, RMSE: 3.588843252263312\n",
      "Parameters: {Param(parent='ALS_c8e08577a7fa', name='rank', doc='rank of the factorization'): 15, Param(parent='ALS_c8e08577a7fa', name='maxIter', doc='max number of iterations (>= 0).'): 10, Param(parent='ALS_c8e08577a7fa', name='regParam', doc='regularization parameter (>= 0).'): 0.01}, RMSE: 4.6715693914028416\n",
      "Parameters: {Param(parent='ALS_c8e08577a7fa', name='rank', doc='rank of the factorization'): 15, Param(parent='ALS_c8e08577a7fa', name='maxIter', doc='max number of iterations (>= 0).'): 10, Param(parent='ALS_c8e08577a7fa', name='regParam', doc='regularization parameter (>= 0).'): 0.05}, RMSE: 4.010243859277808\n",
      "Parameters: {Param(parent='ALS_c8e08577a7fa', name='rank', doc='rank of the factorization'): 15, Param(parent='ALS_c8e08577a7fa', name='maxIter', doc='max number of iterations (>= 0).'): 10, Param(parent='ALS_c8e08577a7fa', name='regParam', doc='regularization parameter (>= 0).'): 0.15}, RMSE: 3.6601839651214667\n",
      "Parameters: {Param(parent='ALS_c8e08577a7fa', name='rank', doc='rank of the factorization'): 15, Param(parent='ALS_c8e08577a7fa', name='maxIter', doc='max number of iterations (>= 0).'): 10, Param(parent='ALS_c8e08577a7fa', name='regParam', doc='regularization parameter (>= 0).'): 0.2}, RMSE: 3.58477859286318\n",
      "Parameters: {Param(parent='ALS_c8e08577a7fa', name='rank', doc='rank of the factorization'): 15, Param(parent='ALS_c8e08577a7fa', name='maxIter', doc='max number of iterations (>= 0).'): 20, Param(parent='ALS_c8e08577a7fa', name='regParam', doc='regularization parameter (>= 0).'): 0.01}, RMSE: 5.114303176125825\n",
      "Parameters: {Param(parent='ALS_c8e08577a7fa', name='rank', doc='rank of the factorization'): 15, Param(parent='ALS_c8e08577a7fa', name='maxIter', doc='max number of iterations (>= 0).'): 20, Param(parent='ALS_c8e08577a7fa', name='regParam', doc='regularization parameter (>= 0).'): 0.05}, RMSE: 4.078230588214298\n",
      "Parameters: {Param(parent='ALS_c8e08577a7fa', name='rank', doc='rank of the factorization'): 15, Param(parent='ALS_c8e08577a7fa', name='maxIter', doc='max number of iterations (>= 0).'): 20, Param(parent='ALS_c8e08577a7fa', name='regParam', doc='regularization parameter (>= 0).'): 0.15}, RMSE: 3.6877562292360437\n",
      "Parameters: {Param(parent='ALS_c8e08577a7fa', name='rank', doc='rank of the factorization'): 15, Param(parent='ALS_c8e08577a7fa', name='maxIter', doc='max number of iterations (>= 0).'): 20, Param(parent='ALS_c8e08577a7fa', name='regParam', doc='regularization parameter (>= 0).'): 0.2}, RMSE: 3.6056738685711367\n",
      "Parameters: {Param(parent='ALS_c8e08577a7fa', name='rank', doc='rank of the factorization'): 15, Param(parent='ALS_c8e08577a7fa', name='maxIter', doc='max number of iterations (>= 0).'): 30, Param(parent='ALS_c8e08577a7fa', name='regParam', doc='regularization parameter (>= 0).'): 0.01}, RMSE: 5.367022444255019\n",
      "Parameters: {Param(parent='ALS_c8e08577a7fa', name='rank', doc='rank of the factorization'): 15, Param(parent='ALS_c8e08577a7fa', name='maxIter', doc='max number of iterations (>= 0).'): 30, Param(parent='ALS_c8e08577a7fa', name='regParam', doc='regularization parameter (>= 0).'): 0.05}, RMSE: 4.103584949974981\n",
      "Parameters: {Param(parent='ALS_c8e08577a7fa', name='rank', doc='rank of the factorization'): 15, Param(parent='ALS_c8e08577a7fa', name='maxIter', doc='max number of iterations (>= 0).'): 30, Param(parent='ALS_c8e08577a7fa', name='regParam', doc='regularization parameter (>= 0).'): 0.15}, RMSE: 3.697079200680398\n",
      "Parameters: {Param(parent='ALS_c8e08577a7fa', name='rank', doc='rank of the factorization'): 15, Param(parent='ALS_c8e08577a7fa', name='maxIter', doc='max number of iterations (>= 0).'): 30, Param(parent='ALS_c8e08577a7fa', name='regParam', doc='regularization parameter (>= 0).'): 0.2}, RMSE: 3.611654715490732\n",
      "Parameters: {Param(parent='ALS_c8e08577a7fa', name='rank', doc='rank of the factorization'): 15, Param(parent='ALS_c8e08577a7fa', name='maxIter', doc='max number of iterations (>= 0).'): 35, Param(parent='ALS_c8e08577a7fa', name='regParam', doc='regularization parameter (>= 0).'): 0.01}, RMSE: 5.45973732825185\n",
      "Parameters: {Param(parent='ALS_c8e08577a7fa', name='rank', doc='rank of the factorization'): 15, Param(parent='ALS_c8e08577a7fa', name='maxIter', doc='max number of iterations (>= 0).'): 35, Param(parent='ALS_c8e08577a7fa', name='regParam', doc='regularization parameter (>= 0).'): 0.05}, RMSE: 4.113808484938167\n",
      "Parameters: {Param(parent='ALS_c8e08577a7fa', name='rank', doc='rank of the factorization'): 15, Param(parent='ALS_c8e08577a7fa', name='maxIter', doc='max number of iterations (>= 0).'): 35, Param(parent='ALS_c8e08577a7fa', name='regParam', doc='regularization parameter (>= 0).'): 0.15}, RMSE: 3.7006848729752084\n",
      "Parameters: {Param(parent='ALS_c8e08577a7fa', name='rank', doc='rank of the factorization'): 15, Param(parent='ALS_c8e08577a7fa', name='maxIter', doc='max number of iterations (>= 0).'): 35, Param(parent='ALS_c8e08577a7fa', name='regParam', doc='regularization parameter (>= 0).'): 0.2}, RMSE: 3.611572990413767\n",
      "Parameters: {Param(parent='ALS_c8e08577a7fa', name='rank', doc='rank of the factorization'): 20, Param(parent='ALS_c8e08577a7fa', name='maxIter', doc='max number of iterations (>= 0).'): 10, Param(parent='ALS_c8e08577a7fa', name='regParam', doc='regularization parameter (>= 0).'): 0.01}, RMSE: 4.650595831813694\n",
      "Parameters: {Param(parent='ALS_c8e08577a7fa', name='rank', doc='rank of the factorization'): 20, Param(parent='ALS_c8e08577a7fa', name='maxIter', doc='max number of iterations (>= 0).'): 10, Param(parent='ALS_c8e08577a7fa', name='regParam', doc='regularization parameter (>= 0).'): 0.05}, RMSE: 4.014017729694613\n",
      "Parameters: {Param(parent='ALS_c8e08577a7fa', name='rank', doc='rank of the factorization'): 20, Param(parent='ALS_c8e08577a7fa', name='maxIter', doc='max number of iterations (>= 0).'): 10, Param(parent='ALS_c8e08577a7fa', name='regParam', doc='regularization parameter (>= 0).'): 0.15}, RMSE: 3.6424558482021694\n",
      "Parameters: {Param(parent='ALS_c8e08577a7fa', name='rank', doc='rank of the factorization'): 20, Param(parent='ALS_c8e08577a7fa', name='maxIter', doc='max number of iterations (>= 0).'): 10, Param(parent='ALS_c8e08577a7fa', name='regParam', doc='regularization parameter (>= 0).'): 0.2}, RMSE: 3.5632400383752794\n",
      "Parameters: {Param(parent='ALS_c8e08577a7fa', name='rank', doc='rank of the factorization'): 20, Param(parent='ALS_c8e08577a7fa', name='maxIter', doc='max number of iterations (>= 0).'): 20, Param(parent='ALS_c8e08577a7fa', name='regParam', doc='regularization parameter (>= 0).'): 0.01}, RMSE: 5.1244942598057\n",
      "Parameters: {Param(parent='ALS_c8e08577a7fa', name='rank', doc='rank of the factorization'): 20, Param(parent='ALS_c8e08577a7fa', name='maxIter', doc='max number of iterations (>= 0).'): 20, Param(parent='ALS_c8e08577a7fa', name='regParam', doc='regularization parameter (>= 0).'): 0.05}, RMSE: 4.073580020219896\n",
      "Parameters: {Param(parent='ALS_c8e08577a7fa', name='rank', doc='rank of the factorization'): 20, Param(parent='ALS_c8e08577a7fa', name='maxIter', doc='max number of iterations (>= 0).'): 20, Param(parent='ALS_c8e08577a7fa', name='regParam', doc='regularization parameter (>= 0).'): 0.15}, RMSE: 3.664912217366465\n",
      "Parameters: {Param(parent='ALS_c8e08577a7fa', name='rank', doc='rank of the factorization'): 20, Param(parent='ALS_c8e08577a7fa', name='maxIter', doc='max number of iterations (>= 0).'): 20, Param(parent='ALS_c8e08577a7fa', name='regParam', doc='regularization parameter (>= 0).'): 0.2}, RMSE: 3.5752714981127154\n",
      "Parameters: {Param(parent='ALS_c8e08577a7fa', name='rank', doc='rank of the factorization'): 20, Param(parent='ALS_c8e08577a7fa', name='maxIter', doc='max number of iterations (>= 0).'): 30, Param(parent='ALS_c8e08577a7fa', name='regParam', doc='regularization parameter (>= 0).'): 0.01}, RMSE: 5.428824092315684\n",
      "Parameters: {Param(parent='ALS_c8e08577a7fa', name='rank', doc='rank of the factorization'): 20, Param(parent='ALS_c8e08577a7fa', name='maxIter', doc='max number of iterations (>= 0).'): 30, Param(parent='ALS_c8e08577a7fa', name='regParam', doc='regularization parameter (>= 0).'): 0.05}, RMSE: 4.103618873901325\n",
      "Parameters: {Param(parent='ALS_c8e08577a7fa', name='rank', doc='rank of the factorization'): 20, Param(parent='ALS_c8e08577a7fa', name='maxIter', doc='max number of iterations (>= 0).'): 30, Param(parent='ALS_c8e08577a7fa', name='regParam', doc='regularization parameter (>= 0).'): 0.15}, RMSE: 3.674580484576547\n",
      "Parameters: {Param(parent='ALS_c8e08577a7fa', name='rank', doc='rank of the factorization'): 20, Param(parent='ALS_c8e08577a7fa', name='maxIter', doc='max number of iterations (>= 0).'): 30, Param(parent='ALS_c8e08577a7fa', name='regParam', doc='regularization parameter (>= 0).'): 0.2}, RMSE: 3.5822119877789005\n",
      "Parameters: {Param(parent='ALS_c8e08577a7fa', name='rank', doc='rank of the factorization'): 20, Param(parent='ALS_c8e08577a7fa', name='maxIter', doc='max number of iterations (>= 0).'): 35, Param(parent='ALS_c8e08577a7fa', name='regParam', doc='regularization parameter (>= 0).'): 0.01}, RMSE: 5.520701969254661\n",
      "Parameters: {Param(parent='ALS_c8e08577a7fa', name='rank', doc='rank of the factorization'): 20, Param(parent='ALS_c8e08577a7fa', name='maxIter', doc='max number of iterations (>= 0).'): 35, Param(parent='ALS_c8e08577a7fa', name='regParam', doc='regularization parameter (>= 0).'): 0.05}, RMSE: 4.115447345161701\n",
      "Parameters: {Param(parent='ALS_c8e08577a7fa', name='rank', doc='rank of the factorization'): 20, Param(parent='ALS_c8e08577a7fa', name='maxIter', doc='max number of iterations (>= 0).'): 35, Param(parent='ALS_c8e08577a7fa', name='regParam', doc='regularization parameter (>= 0).'): 0.15}, RMSE: 3.677373533392072\n",
      "Parameters: {Param(parent='ALS_c8e08577a7fa', name='rank', doc='rank of the factorization'): 20, Param(parent='ALS_c8e08577a7fa', name='maxIter', doc='max number of iterations (>= 0).'): 35, Param(parent='ALS_c8e08577a7fa', name='regParam', doc='regularization parameter (>= 0).'): 0.2}, RMSE: 3.5844418055039826\n",
      "Parameters: {Param(parent='ALS_c8e08577a7fa', name='rank', doc='rank of the factorization'): 25, Param(parent='ALS_c8e08577a7fa', name='maxIter', doc='max number of iterations (>= 0).'): 10, Param(parent='ALS_c8e08577a7fa', name='regParam', doc='regularization parameter (>= 0).'): 0.01}, RMSE: 4.642176630730735\n",
      "Parameters: {Param(parent='ALS_c8e08577a7fa', name='rank', doc='rank of the factorization'): 25, Param(parent='ALS_c8e08577a7fa', name='maxIter', doc='max number of iterations (>= 0).'): 10, Param(parent='ALS_c8e08577a7fa', name='regParam', doc='regularization parameter (>= 0).'): 0.05}, RMSE: 4.00125424430979\n",
      "Parameters: {Param(parent='ALS_c8e08577a7fa', name='rank', doc='rank of the factorization'): 25, Param(parent='ALS_c8e08577a7fa', name='maxIter', doc='max number of iterations (>= 0).'): 10, Param(parent='ALS_c8e08577a7fa', name='regParam', doc='regularization parameter (>= 0).'): 0.15}, RMSE: 3.6309875950287323\n",
      "Parameters: {Param(parent='ALS_c8e08577a7fa', name='rank', doc='rank of the factorization'): 25, Param(parent='ALS_c8e08577a7fa', name='maxIter', doc='max number of iterations (>= 0).'): 10, Param(parent='ALS_c8e08577a7fa', name='regParam', doc='regularization parameter (>= 0).'): 0.2}, RMSE: 3.5517313800245214\n",
      "Parameters: {Param(parent='ALS_c8e08577a7fa', name='rank', doc='rank of the factorization'): 25, Param(parent='ALS_c8e08577a7fa', name='maxIter', doc='max number of iterations (>= 0).'): 20, Param(parent='ALS_c8e08577a7fa', name='regParam', doc='regularization parameter (>= 0).'): 0.01}, RMSE: 5.038754539839888\n",
      "Parameters: {Param(parent='ALS_c8e08577a7fa', name='rank', doc='rank of the factorization'): 25, Param(parent='ALS_c8e08577a7fa', name='maxIter', doc='max number of iterations (>= 0).'): 20, Param(parent='ALS_c8e08577a7fa', name='regParam', doc='regularization parameter (>= 0).'): 0.05}, RMSE: 4.0601932433800245\n",
      "Parameters: {Param(parent='ALS_c8e08577a7fa', name='rank', doc='rank of the factorization'): 25, Param(parent='ALS_c8e08577a7fa', name='maxIter', doc='max number of iterations (>= 0).'): 20, Param(parent='ALS_c8e08577a7fa', name='regParam', doc='regularization parameter (>= 0).'): 0.15}, RMSE: 3.649140417390182\n",
      "Parameters: {Param(parent='ALS_c8e08577a7fa', name='rank', doc='rank of the factorization'): 25, Param(parent='ALS_c8e08577a7fa', name='maxIter', doc='max number of iterations (>= 0).'): 20, Param(parent='ALS_c8e08577a7fa', name='regParam', doc='regularization parameter (>= 0).'): 0.2}, RMSE: 3.561652837226854\n",
      "Parameters: {Param(parent='ALS_c8e08577a7fa', name='rank', doc='rank of the factorization'): 25, Param(parent='ALS_c8e08577a7fa', name='maxIter', doc='max number of iterations (>= 0).'): 30, Param(parent='ALS_c8e08577a7fa', name='regParam', doc='regularization parameter (>= 0).'): 0.01}, RMSE: 5.309952746948822\n",
      "Parameters: {Param(parent='ALS_c8e08577a7fa', name='rank', doc='rank of the factorization'): 25, Param(parent='ALS_c8e08577a7fa', name='maxIter', doc='max number of iterations (>= 0).'): 30, Param(parent='ALS_c8e08577a7fa', name='regParam', doc='regularization parameter (>= 0).'): 0.05}, RMSE: 4.0799841936383014\n",
      "Parameters: {Param(parent='ALS_c8e08577a7fa', name='rank', doc='rank of the factorization'): 25, Param(parent='ALS_c8e08577a7fa', name='maxIter', doc='max number of iterations (>= 0).'): 30, Param(parent='ALS_c8e08577a7fa', name='regParam', doc='regularization parameter (>= 0).'): 0.15}, RMSE: 3.6539102381133133\n",
      "Parameters: {Param(parent='ALS_c8e08577a7fa', name='rank', doc='rank of the factorization'): 25, Param(parent='ALS_c8e08577a7fa', name='maxIter', doc='max number of iterations (>= 0).'): 30, Param(parent='ALS_c8e08577a7fa', name='regParam', doc='regularization parameter (>= 0).'): 0.2}, RMSE: 3.5684205570119056\n",
      "Parameters: {Param(parent='ALS_c8e08577a7fa', name='rank', doc='rank of the factorization'): 25, Param(parent='ALS_c8e08577a7fa', name='maxIter', doc='max number of iterations (>= 0).'): 35, Param(parent='ALS_c8e08577a7fa', name='regParam', doc='regularization parameter (>= 0).'): 0.01}, RMSE: 5.404624206902196\n",
      "Parameters: {Param(parent='ALS_c8e08577a7fa', name='rank', doc='rank of the factorization'): 25, Param(parent='ALS_c8e08577a7fa', name='maxIter', doc='max number of iterations (>= 0).'): 35, Param(parent='ALS_c8e08577a7fa', name='regParam', doc='regularization parameter (>= 0).'): 0.05}, RMSE: 4.087259195819817\n",
      "Parameters: {Param(parent='ALS_c8e08577a7fa', name='rank', doc='rank of the factorization'): 25, Param(parent='ALS_c8e08577a7fa', name='maxIter', doc='max number of iterations (>= 0).'): 35, Param(parent='ALS_c8e08577a7fa', name='regParam', doc='regularization parameter (>= 0).'): 0.15}, RMSE: 3.6538393922078463\n",
      "Parameters: {Param(parent='ALS_c8e08577a7fa', name='rank', doc='rank of the factorization'): 25, Param(parent='ALS_c8e08577a7fa', name='maxIter', doc='max number of iterations (>= 0).'): 35, Param(parent='ALS_c8e08577a7fa', name='regParam', doc='regularization parameter (>= 0).'): 0.2}, RMSE: 3.5704943252958516\n"
     ]
    }
   ],
   "source": [
    "train_rmse = []\n",
    "for param, value in zip(model.getEstimatorParamMaps(), model.avgMetrics):\n",
    "    print(f\"Parameters: {param}, RMSE: {value}\")\n",
    "    train_rmse.append(value)"
   ]
  },
  {
   "cell_type": "code",
   "execution_count": 231,
   "id": "aeff9907-3983-49f2-9927-9b524e1d55a2",
   "metadata": {},
   "outputs": [
    {
     "data": {
      "image/png": "[encoded data removed]",
      "text/plain": [
       "<Figure size 1000x600 with 1 Axes>"
      ]
     },
     "metadata": {},
     "output_type": "display_data"
    }
   ],
   "source": [
    "import numpy as np\n",
    "import matplotlib.pyplot as plt\n",
    "iterations = np.arange(1, len(train_rmse) + 1)\n",
    "\n",
    "plt.figure(figsize=(10, 6))\n",
    "plt.plot(iterations, train_rmse, label=\"Average Training RMSE\")\n",
    "plt.title(\"Learning Curves\")\n",
    "plt.xlabel(\"Configuration Index\")\n",
    "plt.ylabel(\"Root Mean Squared Error (RMSE)\")\n",
    "plt.legend()\n",
    "plt.show()"
   ]
  },
  {
   "cell_type": "code",
   "execution_count": 232,
   "id": "6b32683b-7f1c-4095-a15d-1f9c3f884db1",
   "metadata": {},
   "outputs": [],
   "source": [
    "from pyspark.mllib.util import Saveable"
   ]
  },
  {
   "cell_type": "code",
   "execution_count": null,
   "id": "9111cb36-49ee-4773-8784-cdb9b0606554",
   "metadata": {},
   "outputs": [],
   "source": [
    "\n",
    "best_model.save(\"./model/\")"
   ]
  }
 ],
 "metadata": {
  "kernelspec": {
   "display_name": "Python 3 (ipykernel)",
   "language": "python",
   "name": "python3"
  },
  "language_info": {
   "codemirror_mode": {
    "name": "ipython",
    "version": 3
   },
   "file_extension": ".py",
   "mimetype": "text/x-python",
   "name": "python",
   "nbconvert_exporter": "python",
   "pygments_lexer": "ipython3",
   "version": "3.11.6"
  }
 },
 "nbformat": 4,
 "nbformat_minor": 5
}
